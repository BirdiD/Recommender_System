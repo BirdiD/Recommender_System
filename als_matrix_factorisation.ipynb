{
  "nbformat": 4,
  "nbformat_minor": 0,
  "metadata": {
    "colab": {
      "name": "Collaborative filtering Cassiopée",
      "provenance": [],
      "collapsed_sections": [],
      "authorship_tag": "ABX9TyMyiPXpv9LCHn/koGJh2BI2",
      "include_colab_link": true
    },
    "kernelspec": {
      "name": "python3",
      "display_name": "Python 3"
    }
  },
  "cells": [
    {
      "cell_type": "markdown",
      "metadata": {
        "id": "view-in-github",
        "colab_type": "text"
      },
      "source": [
        "<a href=\"https://colab.research.google.com/github/BirdiD/Recommender_System/blob/master/als_matrix_factorisation.ipynb\" target=\"_parent\"><img src=\"https://colab.research.google.com/assets/colab-badge.svg\" alt=\"Open In Colab\"/></a>"
      ]
    },
    {
      "cell_type": "markdown",
      "metadata": {
        "id": "LVBmZTpHmntN",
        "colab_type": "text"
      },
      "source": [
        "#Mise en place d'un système de recommandation"
      ]
    },
    {
      "cell_type": "markdown",
      "metadata": {
        "id": "ArPWWs1gnMWZ",
        "colab_type": "text"
      },
      "source": [
        "Importer les packages necessaires"
      ]
    },
    {
      "cell_type": "code",
      "metadata": {
        "id": "FwZyBTIXr1UF",
        "colab_type": "code",
        "colab": {}
      },
      "source": [
        "from __future__ import print_function\n",
        "\n",
        "import numpy as np\n",
        "import pandas as pd\n",
        "from mpl_toolkits.mplot3d import Axes3D\n",
        "from IPython import display\n",
        "from matplotlib import pyplot as plt\n",
        "import sklearn\n",
        "import sklearn.manifold\n",
        "import tensorflow as tf\n",
        "# Some useful Pandas DataFrame functions.\n",
        "pd.options.display.max_rows = 10\n",
        "pd.options.display.float_format = '{:.3f}'.format\n",
        "def mask(df, key, function):\n",
        "  \"\"\"Returns a filtered dataframe, by applying function to key\"\"\"\n",
        "  return df[function(df[key])]\n",
        "\n",
        "def flatten_cols(df):\n",
        "  df.columns = [' '.join(col).strip() for col in df.columns.values]\n",
        "  return df\n",
        "\n",
        "pd.DataFrame.mask = mask\n",
        "pd.DataFrame.flatten_cols = flatten_cols"
      ],
      "execution_count": 1,
      "outputs": []
    },
    {
      "cell_type": "markdown",
      "metadata": {
        "id": "d9pvDiPBm4mP",
        "colab_type": "text"
      },
      "source": [
        "##MovieLens Dataset"
      ]
    },
    {
      "cell_type": "markdown",
      "metadata": {
        "id": "CnACxdxynrVg",
        "colab_type": "text"
      },
      "source": [
        "Télchargeons la base de données de films que nous allons utiliser pour mettre en place notre système de recommandation "
      ]
    },
    {
      "cell_type": "code",
      "metadata": {
        "id": "r39KNR_EsJje",
        "colab_type": "code",
        "colab": {
          "base_uri": "https://localhost:8080/",
          "height": 531
        },
        "outputId": "276436b5-4d41-4b80-a6a1-d6395fd16e86"
      },
      "source": [
        " !curl -O http://files.grouplens.org/datasets/movielens/ml-100k.zip\n",
        " !unzip ml-100k.zip"
      ],
      "execution_count": 2,
      "outputs": [
        {
          "output_type": "stream",
          "text": [
            "  % Total    % Received % Xferd  Average Speed   Time    Time     Time  Current\n",
            "                                 Dload  Upload   Total   Spent    Left  Speed\n",
            "100 4808k  100 4808k    0     0  5415k      0 --:--:-- --:--:-- --:--:-- 5409k\n",
            "Archive:  ml-100k.zip\n",
            "   creating: ml-100k/\n",
            "  inflating: ml-100k/allbut.pl       \n",
            "  inflating: ml-100k/mku.sh          \n",
            "  inflating: ml-100k/README          \n",
            "  inflating: ml-100k/u.data          \n",
            "  inflating: ml-100k/u.genre         \n",
            "  inflating: ml-100k/u.info          \n",
            "  inflating: ml-100k/u.item          \n",
            "  inflating: ml-100k/u.occupation    \n",
            "  inflating: ml-100k/u.user          \n",
            "  inflating: ml-100k/u1.base         \n",
            "  inflating: ml-100k/u1.test         \n",
            "  inflating: ml-100k/u2.base         \n",
            "  inflating: ml-100k/u2.test         \n",
            "  inflating: ml-100k/u3.base         \n",
            "  inflating: ml-100k/u3.test         \n",
            "  inflating: ml-100k/u4.base         \n",
            "  inflating: ml-100k/u4.test         \n",
            "  inflating: ml-100k/u5.base         \n",
            "  inflating: ml-100k/u5.test         \n",
            "  inflating: ml-100k/ua.base         \n",
            "  inflating: ml-100k/ua.test         \n",
            "  inflating: ml-100k/ub.base         \n",
            "  inflating: ml-100k/ub.test         \n"
          ],
          "name": "stdout"
        }
      ]
    },
    {
      "cell_type": "markdown",
      "metadata": {
        "id": "RmFDh1UnpB25",
        "colab_type": "text"
      },
      "source": [
        "Importons les données téléchargées"
      ]
    },
    {
      "cell_type": "markdown",
      "metadata": {
        "id": "abD8CJLmsZsB",
        "colab_type": "text"
      },
      "source": [
        "#####Ratings, users and items"
      ]
    },
    {
      "cell_type": "code",
      "metadata": {
        "id": "p6EG4SyVswyS",
        "colab_type": "code",
        "colab": {
          "base_uri": "https://localhost:8080/",
          "height": 238
        },
        "outputId": "f393f592-96ed-4360-a8ea-5be5f315eb48"
      },
      "source": [
        "#ratings\n",
        "names = ['user_id', 'movie_id', 'rating', 'timestamp']\n",
        "movielens_ratings = pd.read_csv('ml-100k/u.data', sep='\\t', names=names)\n",
        "#users\n",
        "users_cols = ['user_id', 'age', 'sex', 'occupation', 'zip_code']\n",
        "users = pd.read_csv(\n",
        "    'ml-100k/u.user', sep='|', names=users_cols, encoding='latin-1')\n",
        "# Items, we add genre colums to the dataset\n",
        "genre_cols = [\n",
        "    \"genre_unknown\", \"Action\", \"Adventure\", \"Animation\", \"Children\", \"Comedy\",\n",
        "    \"Crime\", \"Documentary\", \"Drama\", \"Fantasy\", \"Film-Noir\", \"Horror\",\n",
        "    \"Musical\", \"Mystery\", \"Romance\", \"Sci-Fi\", \"Thriller\", \"War\", \"Western\"\n",
        "]\n",
        "movies_cols = [\n",
        "    'movie_id', 'title', 'release_date', \"video_release_date\", \"imdb_url\"\n",
        "] + genre_cols\n",
        "movies = pd.read_csv(\n",
        "    'ml-100k/u.item', sep='|', names=movies_cols, encoding='latin-1')\n",
        "\n",
        "item_info = pd.DataFrame(movies['title'])   \n",
        "item_info.columns = ['title']\n",
        "\n",
        "movielens_ratings.head(6)"
      ],
      "execution_count": 3,
      "outputs": [
        {
          "output_type": "execute_result",
          "data": {
            "text/html": [
              "<div>\n",
              "<style scoped>\n",
              "    .dataframe tbody tr th:only-of-type {\n",
              "        vertical-align: middle;\n",
              "    }\n",
              "\n",
              "    .dataframe tbody tr th {\n",
              "        vertical-align: top;\n",
              "    }\n",
              "\n",
              "    .dataframe thead th {\n",
              "        text-align: right;\n",
              "    }\n",
              "</style>\n",
              "<table border=\"1\" class=\"dataframe\">\n",
              "  <thead>\n",
              "    <tr style=\"text-align: right;\">\n",
              "      <th></th>\n",
              "      <th>user_id</th>\n",
              "      <th>movie_id</th>\n",
              "      <th>rating</th>\n",
              "      <th>timestamp</th>\n",
              "    </tr>\n",
              "  </thead>\n",
              "  <tbody>\n",
              "    <tr>\n",
              "      <th>0</th>\n",
              "      <td>196</td>\n",
              "      <td>242</td>\n",
              "      <td>3</td>\n",
              "      <td>881250949</td>\n",
              "    </tr>\n",
              "    <tr>\n",
              "      <th>1</th>\n",
              "      <td>186</td>\n",
              "      <td>302</td>\n",
              "      <td>3</td>\n",
              "      <td>891717742</td>\n",
              "    </tr>\n",
              "    <tr>\n",
              "      <th>2</th>\n",
              "      <td>22</td>\n",
              "      <td>377</td>\n",
              "      <td>1</td>\n",
              "      <td>878887116</td>\n",
              "    </tr>\n",
              "    <tr>\n",
              "      <th>3</th>\n",
              "      <td>244</td>\n",
              "      <td>51</td>\n",
              "      <td>2</td>\n",
              "      <td>880606923</td>\n",
              "    </tr>\n",
              "    <tr>\n",
              "      <th>4</th>\n",
              "      <td>166</td>\n",
              "      <td>346</td>\n",
              "      <td>1</td>\n",
              "      <td>886397596</td>\n",
              "    </tr>\n",
              "    <tr>\n",
              "      <th>5</th>\n",
              "      <td>298</td>\n",
              "      <td>474</td>\n",
              "      <td>4</td>\n",
              "      <td>884182806</td>\n",
              "    </tr>\n",
              "  </tbody>\n",
              "</table>\n",
              "</div>"
            ],
            "text/plain": [
              "   user_id  movie_id  rating  timestamp\n",
              "0      196       242       3  881250949\n",
              "1      186       302       3  891717742\n",
              "2       22       377       1  878887116\n",
              "3      244        51       2  880606923\n",
              "4      166       346       1  886397596\n",
              "5      298       474       4  884182806"
            ]
          },
          "metadata": {
            "tags": []
          },
          "execution_count": 3
        }
      ]
    },
    {
      "cell_type": "code",
      "metadata": {
        "id": "azpkXceJYxI0",
        "colab_type": "code",
        "colab": {
          "base_uri": "https://localhost:8080/",
          "height": 424
        },
        "outputId": "8b883baa-5776-40d1-92c2-aec7804f07e6"
      },
      "source": [
        "item_info"
      ],
      "execution_count": 4,
      "outputs": [
        {
          "output_type": "execute_result",
          "data": {
            "text/html": [
              "<div>\n",
              "<style scoped>\n",
              "    .dataframe tbody tr th:only-of-type {\n",
              "        vertical-align: middle;\n",
              "    }\n",
              "\n",
              "    .dataframe tbody tr th {\n",
              "        vertical-align: top;\n",
              "    }\n",
              "\n",
              "    .dataframe thead th {\n",
              "        text-align: right;\n",
              "    }\n",
              "</style>\n",
              "<table border=\"1\" class=\"dataframe\">\n",
              "  <thead>\n",
              "    <tr style=\"text-align: right;\">\n",
              "      <th></th>\n",
              "      <th>title</th>\n",
              "    </tr>\n",
              "  </thead>\n",
              "  <tbody>\n",
              "    <tr>\n",
              "      <th>0</th>\n",
              "      <td>Toy Story (1995)</td>\n",
              "    </tr>\n",
              "    <tr>\n",
              "      <th>1</th>\n",
              "      <td>GoldenEye (1995)</td>\n",
              "    </tr>\n",
              "    <tr>\n",
              "      <th>2</th>\n",
              "      <td>Four Rooms (1995)</td>\n",
              "    </tr>\n",
              "    <tr>\n",
              "      <th>3</th>\n",
              "      <td>Get Shorty (1995)</td>\n",
              "    </tr>\n",
              "    <tr>\n",
              "      <th>4</th>\n",
              "      <td>Copycat (1995)</td>\n",
              "    </tr>\n",
              "    <tr>\n",
              "      <th>...</th>\n",
              "      <td>...</td>\n",
              "    </tr>\n",
              "    <tr>\n",
              "      <th>1677</th>\n",
              "      <td>Mat' i syn (1997)</td>\n",
              "    </tr>\n",
              "    <tr>\n",
              "      <th>1678</th>\n",
              "      <td>B. Monkey (1998)</td>\n",
              "    </tr>\n",
              "    <tr>\n",
              "      <th>1679</th>\n",
              "      <td>Sliding Doors (1998)</td>\n",
              "    </tr>\n",
              "    <tr>\n",
              "      <th>1680</th>\n",
              "      <td>You So Crazy (1994)</td>\n",
              "    </tr>\n",
              "    <tr>\n",
              "      <th>1681</th>\n",
              "      <td>Scream of Stone (Schrei aus Stein) (1991)</td>\n",
              "    </tr>\n",
              "  </tbody>\n",
              "</table>\n",
              "<p>1682 rows × 1 columns</p>\n",
              "</div>"
            ],
            "text/plain": [
              "                                          title\n",
              "0                              Toy Story (1995)\n",
              "1                              GoldenEye (1995)\n",
              "2                             Four Rooms (1995)\n",
              "3                             Get Shorty (1995)\n",
              "4                                Copycat (1995)\n",
              "...                                         ...\n",
              "1677                          Mat' i syn (1997)\n",
              "1678                           B. Monkey (1998)\n",
              "1679                       Sliding Doors (1998)\n",
              "1680                        You So Crazy (1994)\n",
              "1681  Scream of Stone (Schrei aus Stein) (1991)\n",
              "\n",
              "[1682 rows x 1 columns]"
            ]
          },
          "metadata": {
            "tags": []
          },
          "execution_count": 4
        }
      ]
    },
    {
      "cell_type": "code",
      "metadata": {
        "id": "UyVELInZuzlC",
        "colab_type": "code",
        "colab": {
          "base_uri": "https://localhost:8080/",
          "height": 417
        },
        "outputId": "a9e31fd2-f15e-412d-b97d-f0aa75a99ade"
      },
      "source": [
        "movies.head((5))"
      ],
      "execution_count": null,
      "outputs": [
        {
          "output_type": "execute_result",
          "data": {
            "text/html": [
              "<div>\n",
              "<style scoped>\n",
              "    .dataframe tbody tr th:only-of-type {\n",
              "        vertical-align: middle;\n",
              "    }\n",
              "\n",
              "    .dataframe tbody tr th {\n",
              "        vertical-align: top;\n",
              "    }\n",
              "\n",
              "    .dataframe thead th {\n",
              "        text-align: right;\n",
              "    }\n",
              "</style>\n",
              "<table border=\"1\" class=\"dataframe\">\n",
              "  <thead>\n",
              "    <tr style=\"text-align: right;\">\n",
              "      <th></th>\n",
              "      <th>movie_id</th>\n",
              "      <th>title</th>\n",
              "      <th>release_date</th>\n",
              "      <th>video_release_date</th>\n",
              "      <th>imdb_url</th>\n",
              "      <th>genre_unknown</th>\n",
              "      <th>Action</th>\n",
              "      <th>Adventure</th>\n",
              "      <th>Animation</th>\n",
              "      <th>Children</th>\n",
              "      <th>Comedy</th>\n",
              "      <th>Crime</th>\n",
              "      <th>Documentary</th>\n",
              "      <th>Drama</th>\n",
              "      <th>Fantasy</th>\n",
              "      <th>Film-Noir</th>\n",
              "      <th>Horror</th>\n",
              "      <th>Musical</th>\n",
              "      <th>Mystery</th>\n",
              "      <th>Romance</th>\n",
              "      <th>Sci-Fi</th>\n",
              "      <th>Thriller</th>\n",
              "      <th>War</th>\n",
              "      <th>Western</th>\n",
              "      <th>genre</th>\n",
              "      <th>all_genres</th>\n",
              "    </tr>\n",
              "  </thead>\n",
              "  <tbody>\n",
              "    <tr>\n",
              "      <th>0</th>\n",
              "      <td>1</td>\n",
              "      <td>Toy Story (1995)</td>\n",
              "      <td>01-Jan-1995</td>\n",
              "      <td>nan</td>\n",
              "      <td>http://us.imdb.com/M/title-exact?Toy%20Story%2...</td>\n",
              "      <td>0</td>\n",
              "      <td>0</td>\n",
              "      <td>0</td>\n",
              "      <td>1</td>\n",
              "      <td>1</td>\n",
              "      <td>1</td>\n",
              "      <td>0</td>\n",
              "      <td>0</td>\n",
              "      <td>0</td>\n",
              "      <td>0</td>\n",
              "      <td>0</td>\n",
              "      <td>0</td>\n",
              "      <td>0</td>\n",
              "      <td>0</td>\n",
              "      <td>0</td>\n",
              "      <td>0</td>\n",
              "      <td>0</td>\n",
              "      <td>0</td>\n",
              "      <td>0</td>\n",
              "      <td>Comedy</td>\n",
              "      <td>Animation-Children-Comedy</td>\n",
              "    </tr>\n",
              "    <tr>\n",
              "      <th>1</th>\n",
              "      <td>2</td>\n",
              "      <td>GoldenEye (1995)</td>\n",
              "      <td>01-Jan-1995</td>\n",
              "      <td>nan</td>\n",
              "      <td>http://us.imdb.com/M/title-exact?GoldenEye%20(...</td>\n",
              "      <td>0</td>\n",
              "      <td>1</td>\n",
              "      <td>1</td>\n",
              "      <td>0</td>\n",
              "      <td>0</td>\n",
              "      <td>0</td>\n",
              "      <td>0</td>\n",
              "      <td>0</td>\n",
              "      <td>0</td>\n",
              "      <td>0</td>\n",
              "      <td>0</td>\n",
              "      <td>0</td>\n",
              "      <td>0</td>\n",
              "      <td>0</td>\n",
              "      <td>0</td>\n",
              "      <td>0</td>\n",
              "      <td>1</td>\n",
              "      <td>0</td>\n",
              "      <td>0</td>\n",
              "      <td>Adventure</td>\n",
              "      <td>Action-Adventure-Thriller</td>\n",
              "    </tr>\n",
              "    <tr>\n",
              "      <th>2</th>\n",
              "      <td>3</td>\n",
              "      <td>Four Rooms (1995)</td>\n",
              "      <td>01-Jan-1995</td>\n",
              "      <td>nan</td>\n",
              "      <td>http://us.imdb.com/M/title-exact?Four%20Rooms%...</td>\n",
              "      <td>0</td>\n",
              "      <td>0</td>\n",
              "      <td>0</td>\n",
              "      <td>0</td>\n",
              "      <td>0</td>\n",
              "      <td>0</td>\n",
              "      <td>0</td>\n",
              "      <td>0</td>\n",
              "      <td>0</td>\n",
              "      <td>0</td>\n",
              "      <td>0</td>\n",
              "      <td>0</td>\n",
              "      <td>0</td>\n",
              "      <td>0</td>\n",
              "      <td>0</td>\n",
              "      <td>0</td>\n",
              "      <td>1</td>\n",
              "      <td>0</td>\n",
              "      <td>0</td>\n",
              "      <td>Thriller</td>\n",
              "      <td>Thriller</td>\n",
              "    </tr>\n",
              "    <tr>\n",
              "      <th>3</th>\n",
              "      <td>4</td>\n",
              "      <td>Get Shorty (1995)</td>\n",
              "      <td>01-Jan-1995</td>\n",
              "      <td>nan</td>\n",
              "      <td>http://us.imdb.com/M/title-exact?Get%20Shorty%...</td>\n",
              "      <td>0</td>\n",
              "      <td>1</td>\n",
              "      <td>0</td>\n",
              "      <td>0</td>\n",
              "      <td>0</td>\n",
              "      <td>1</td>\n",
              "      <td>0</td>\n",
              "      <td>0</td>\n",
              "      <td>1</td>\n",
              "      <td>0</td>\n",
              "      <td>0</td>\n",
              "      <td>0</td>\n",
              "      <td>0</td>\n",
              "      <td>0</td>\n",
              "      <td>0</td>\n",
              "      <td>0</td>\n",
              "      <td>0</td>\n",
              "      <td>0</td>\n",
              "      <td>0</td>\n",
              "      <td>Drama</td>\n",
              "      <td>Action-Comedy-Drama</td>\n",
              "    </tr>\n",
              "    <tr>\n",
              "      <th>4</th>\n",
              "      <td>5</td>\n",
              "      <td>Copycat (1995)</td>\n",
              "      <td>01-Jan-1995</td>\n",
              "      <td>nan</td>\n",
              "      <td>http://us.imdb.com/M/title-exact?Copycat%20(1995)</td>\n",
              "      <td>0</td>\n",
              "      <td>0</td>\n",
              "      <td>0</td>\n",
              "      <td>0</td>\n",
              "      <td>0</td>\n",
              "      <td>0</td>\n",
              "      <td>1</td>\n",
              "      <td>0</td>\n",
              "      <td>1</td>\n",
              "      <td>0</td>\n",
              "      <td>0</td>\n",
              "      <td>0</td>\n",
              "      <td>0</td>\n",
              "      <td>0</td>\n",
              "      <td>0</td>\n",
              "      <td>0</td>\n",
              "      <td>1</td>\n",
              "      <td>0</td>\n",
              "      <td>0</td>\n",
              "      <td>Thriller</td>\n",
              "      <td>Crime-Drama-Thriller</td>\n",
              "    </tr>\n",
              "  </tbody>\n",
              "</table>\n",
              "</div>"
            ],
            "text/plain": [
              "   movie_id              title  ...      genre                 all_genres\n",
              "0         1   Toy Story (1995)  ...     Comedy  Animation-Children-Comedy\n",
              "1         2   GoldenEye (1995)  ...  Adventure  Action-Adventure-Thriller\n",
              "2         3  Four Rooms (1995)  ...   Thriller                   Thriller\n",
              "3         4  Get Shorty (1995)  ...      Drama        Action-Comedy-Drama\n",
              "4         5     Copycat (1995)  ...   Thriller       Crime-Drama-Thriller\n",
              "\n",
              "[5 rows x 26 columns]"
            ]
          },
          "metadata": {
            "tags": []
          },
          "execution_count": 7
        }
      ]
    },
    {
      "cell_type": "markdown",
      "metadata": {
        "id": "9gELuMeEwxH_",
        "colab_type": "text"
      },
      "source": [
        "#Exploring the database"
      ]
    },
    {
      "cell_type": "markdown",
      "metadata": {
        "id": "IMhGmvYkwFqj",
        "colab_type": "text"
      },
      "source": [
        "La base de données contient 100000 notes attribuées par 943 utilisateurs à 1682 films. Chaque utilisateur a évalué au moins à une vingtaine de films. Chaque film a des attributs qui lui sont propres. Comme nous l'avons déjà évoqué (je vous renvoie vers mon pdf), ces attributs sont très utiles pour effectuer une recommandation. Les films et les utilisateurs sont identifiés par leurs identifiants. Nous utiliserons ces identifiants pour créer notre matrice d'évaluations. "
      ]
    },
    {
      "cell_type": "code",
      "metadata": {
        "id": "2GRsMZLKtism",
        "colab_type": "code",
        "colab": {
          "base_uri": "https://localhost:8080/",
          "height": 90
        },
        "outputId": "260f2ac4-ce14-4632-b21a-8ed599f5528f"
      },
      "source": [
        "n_users = movielens_ratings.user_id.unique().shape[0]\n",
        "n_items = movielens_ratings.movie_id.unique().shape[0]\n",
        "\n",
        "\n",
        "print('MovieLens 100K')\n",
        "print (str(n_users) + ' utilisateurs')\n",
        "print (str(n_items) + ' films')\n",
        "print('')\n"
      ],
      "execution_count": 5,
      "outputs": [
        {
          "output_type": "stream",
          "text": [
            "MovieLens 100K\n",
            "943 utilisateurs\n",
            "1682 films\n",
            "\n"
          ],
          "name": "stdout"
        }
      ]
    },
    {
      "cell_type": "code",
      "metadata": {
        "id": "m4R7OmN-u60_",
        "colab_type": "code",
        "colab": {
          "base_uri": "https://localhost:8080/",
          "height": 313
        },
        "outputId": "3026b514-a250-43fc-ff18-3e8bffd3843b"
      },
      "source": [
        "movielens_ratings['rating'].hist(grid=True)\n",
        "plt.xlabel('Note')\n",
        "plt.ylabel('Fréquence')\n",
        "plt.title('Fréquence d\\'évaluations des films')\n"
      ],
      "execution_count": 6,
      "outputs": [
        {
          "output_type": "execute_result",
          "data": {
            "text/plain": [
              "Text(0.5, 1.0, \"Fréquence d'évaluations des films\")"
            ]
          },
          "metadata": {
            "tags": []
          },
          "execution_count": 6
        },
        {
          "output_type": "display_data",
          "data": {
            "image/png": "[encoded data removed]",
            "text/plain": [
              "<Figure size 432x288 with 1 Axes>"
            ]
          },
          "metadata": {
            "tags": [],
            "needs_background": "light"
          }
        }
      ]
    },
    {
      "cell_type": "code",
      "metadata": {
        "id": "cP_tSFXNCwNv",
        "colab_type": "code",
        "colab": {
          "base_uri": "https://localhost:8080/",
          "height": 332
        },
        "outputId": "78017d20-a9b2-4cf4-9825-cf0f6a770df0"
      },
      "source": [
        "(movies_ratings[['title', 'rating count', 'rating mean']]\n",
        " .sort_values('rating count', ascending=False)\n",
        " .head(9))"
      ],
      "execution_count": null,
      "outputs": [
        {
          "output_type": "execute_result",
          "data": {
            "text/html": [
              "<div>\n",
              "<style scoped>\n",
              "    .dataframe tbody tr th:only-of-type {\n",
              "        vertical-align: middle;\n",
              "    }\n",
              "\n",
              "    .dataframe tbody tr th {\n",
              "        vertical-align: top;\n",
              "    }\n",
              "\n",
              "    .dataframe thead th {\n",
              "        text-align: right;\n",
              "    }\n",
              "</style>\n",
              "<table border=\"1\" class=\"dataframe\">\n",
              "  <thead>\n",
              "    <tr style=\"text-align: right;\">\n",
              "      <th></th>\n",
              "      <th>title</th>\n",
              "      <th>rating count</th>\n",
              "      <th>rating mean</th>\n",
              "    </tr>\n",
              "  </thead>\n",
              "  <tbody>\n",
              "    <tr>\n",
              "      <th>49</th>\n",
              "      <td>Star Wars (1977)</td>\n",
              "      <td>583</td>\n",
              "      <td>4.358</td>\n",
              "    </tr>\n",
              "    <tr>\n",
              "      <th>257</th>\n",
              "      <td>Contact (1997)</td>\n",
              "      <td>509</td>\n",
              "      <td>3.804</td>\n",
              "    </tr>\n",
              "    <tr>\n",
              "      <th>99</th>\n",
              "      <td>Fargo (1996)</td>\n",
              "      <td>508</td>\n",
              "      <td>4.156</td>\n",
              "    </tr>\n",
              "    <tr>\n",
              "      <th>180</th>\n",
              "      <td>Return of the Jedi (1983)</td>\n",
              "      <td>507</td>\n",
              "      <td>4.008</td>\n",
              "    </tr>\n",
              "    <tr>\n",
              "      <th>293</th>\n",
              "      <td>Liar Liar (1997)</td>\n",
              "      <td>485</td>\n",
              "      <td>3.157</td>\n",
              "    </tr>\n",
              "    <tr>\n",
              "      <th>285</th>\n",
              "      <td>English Patient, The (1996)</td>\n",
              "      <td>481</td>\n",
              "      <td>3.657</td>\n",
              "    </tr>\n",
              "    <tr>\n",
              "      <th>287</th>\n",
              "      <td>Scream (1996)</td>\n",
              "      <td>478</td>\n",
              "      <td>3.441</td>\n",
              "    </tr>\n",
              "    <tr>\n",
              "      <th>0</th>\n",
              "      <td>Toy Story (1995)</td>\n",
              "      <td>452</td>\n",
              "      <td>3.878</td>\n",
              "    </tr>\n",
              "    <tr>\n",
              "      <th>299</th>\n",
              "      <td>Air Force One (1997)</td>\n",
              "      <td>431</td>\n",
              "      <td>3.631</td>\n",
              "    </tr>\n",
              "  </tbody>\n",
              "</table>\n",
              "</div>"
            ],
            "text/plain": [
              "                           title  rating count  rating mean\n",
              "49              Star Wars (1977)           583        4.358\n",
              "257               Contact (1997)           509        3.804\n",
              "99                  Fargo (1996)           508        4.156\n",
              "180    Return of the Jedi (1983)           507        4.008\n",
              "293             Liar Liar (1997)           485        3.157\n",
              "285  English Patient, The (1996)           481        3.657\n",
              "287                Scream (1996)           478        3.441\n",
              "0               Toy Story (1995)           452        3.878\n",
              "299         Air Force One (1997)           431        3.631"
            ]
          },
          "metadata": {
            "tags": []
          },
          "execution_count": 9
        }
      ]
    },
    {
      "cell_type": "markdown",
      "metadata": {
        "id": "ouEjvVvxWx20",
        "colab_type": "text"
      },
      "source": [
        "#Factorisation matricielle"
      ]
    },
    {
      "cell_type": "markdown",
      "metadata": {
        "id": "t91fUp0BX0gs",
        "colab_type": "text"
      },
      "source": [
        "Les systèmes de recommandation se décomposent en deux principales tâches: une prédiction des notes qu'un utilisateur est susceptible de donner à un item (film, livres, article etc) et la suggestion des éléments qui pourraient l'intéresser. Dans les approches de type filtrage collaboratif, ces évaluations sont regroupées dans des matrices de type utilisateur/produit où chaque ligne représente un utilisateur et chaque colonne un item (produit). On les appelle matrices d'évaluations. Elles sont non seulement de grandes tailles (des milliers voire des millions d'utilisateurs/produits) mais elles ont aussi la particularité d'être **sparse** (creuses). En effet, seul un nombre assez faible d'items se retrouvent notées ce qui fait qu'une garande partie des entrées de la matrice sont inconnues. Pour remédier à ce problème et réduire la dimensionalité des matrices d'évaluations, on les décompose en produits de matrices. On parle de factorisation matricielle.\n",
        "\n"
      ]
    },
    {
      "cell_type": "markdown",
      "metadata": {
        "id": "qlQSKp8awUkp",
        "colab_type": "text"
      },
      "source": [
        "Supposons que nous disposons d'une matrice $R$ de $\\mathcal M_{m,n}(R)$ dont les entrées $r_{ui}$ sont les évaluations des films sur Netflix et où chaque ligne représente un utilisateur et chaque colonne un film. L'objectif de la factorisation matricielle est de trouver deux matrices de facteurs latents dont le produit est égale à la matrice $R$. On apprend donc un modéle latent d'utilisateurs $X$ $\\in$  $\\mathcal M_{m,d}(R)$ et d'items $Y$ $\\in$ $\\mathcal M_{d,n}(R)$ afin que le produit $\\hat{r}_{ui}$ = $x_u^T$ $\\cdot$ $y_i$ estime l'entrée $r_{ui}$ de la matrice $R$. Le nombre de variables latentes est égale à $d$. Ces facteurs latents sont en général les attributs des items. Dans le cas des films, il est évident que les utilisateurs préferent certains genres, acteurs ou encore réalisateurs. Ces catégories représentent les facteurs latents. Deux utilisateurs fans d'un même réalisateur ou qui apprécient un genre en particulier aiment vraisemblement des films similaires. Pour un utilisateur, un attribut peut être par exemple un nombre indiquant à quel point il aime les films de comédie et pour un film, un nombre indiquant son caractère humoristique (par exemple 1 s'il s'agit d'une comédie et 0 sinon). Par conséquent, les entrées de $X$ traduiront la force de préférence des utilisateurs pour les attributs choisis (genre du film dans notre exemple). Ces informations nous permettront de prédire les notes manquantes dans la matrice et donc recommander les films non évalués.\n",
        "\n"
      ]
    },
    {
      "cell_type": "markdown",
      "metadata": {
        "id": "aqYRntNWxS-M",
        "colab_type": "text"
      },
      "source": [
        "Pour déterminer les variables latentes $X$ et $Y$, on minimise la fonction objective suivante:\n",
        "\\begin{equation}\n",
        "    \\mathcal{L} = \\sum_{(u,i)\\in \\Gamma }(r_{ui}-x^T_u \\cdot y_i)^2\n",
        "\\end{equation}\n",
        "Le terme $\\hat{r}_{ui}$ = $x^T_u \\cdot y_i$ représente la prédiction de l'évaluation de l'item $i$ par l'utilisateur $u$. $\\Gamma$ est l'ensemble des ($u$,$i$) telle que $r_{ui}$ est connue. \\\\\n",
        "Afin d'éviter le surapprentissage, on ajoute à la fonction objective précédente des termes de régularisation. L'égalité précédente se réécrit de la manière suivante:\n",
        "\n",
        "\\begin{equation}\n",
        "     \\mathcal{L} = \\sum_{(u,i)\\in \\Gamma }(r_{ui}-x^T_u \\cdot y_i)^2 + \\lambda ({x_{u}}^2 + {y_{i}}^2)\n",
        "\\end{equation}"
      ]
    },
    {
      "cell_type": "markdown",
      "metadata": {
        "id": "bcIFyYxIYqLb",
        "colab_type": "text"
      },
      "source": [
        "La constante de régularisation $\\lambda $ est un hyperparamètre. On peut la déterminer avec une validation croisée. \\\\\n",
        "Pour minimiser la fonction $\\mathcal{L}$, nous allons utiliser la méthode des moindres carrés alternés"
      ]
    },
    {
      "cell_type": "markdown",
      "metadata": {
        "id": "WbAYuqXPYHn7",
        "colab_type": "text"
      },
      "source": [
        "#Moindres carrés alternés (ALS)"
      ]
    },
    {
      "cell_type": "markdown",
      "metadata": {
        "id": "mTqQ2NBnYNm8",
        "colab_type": "text"
      },
      "source": [
        "\n",
        "La méthode des moindres carrés alternés consiste à fixer un des facteurs latents ($X$ ou $Y$) et à calculer le gradient par rapport l'autre facteur. En annulant le gradient, on trouve la règle de mise à jour d'un des facteurs. En refaisant la même opération, on détermine aisément l'autre facteur. Essayons de dériver la fonction objective. Fixons $y_i$ et annulons la dérivée:\n",
        "\n",
        "\\begin{equation}\n",
        "    \\frac{\\partial\\mathcal{L}}{\\partial x_{u}} = -2\\sum_{i}(r_{ui}-x^T_u \\cdot y_i)y_i^T + 2\\lambda x_{u}^T \\\\ \\lambda x_{u}^T - (r_u - x_{u}^TY^T)Y = 0 \\\\ r_{u}Y = x_{u}^T(Y^TY+\\lambda I)\n",
        "\\end{equation}\n",
        "\n",
        "On en déduit que:\n",
        "\n",
        "\\begin{equation}\n",
        "    \\boxed{ x_{u}^T = r_{u}Y(Y^TY+\\lambda I)^{-1}}\n",
        "\\end{equation}\n",
        "\n",
        "En fixant $x_{i}$, le même raisonnement nous permet d'écrire:\n",
        "\n",
        "\\begin{equation}\n",
        "    \\boxed{ y_{i}^T = r_{i}X(X^TX+\\lambda I)^{-1}}\n",
        "\\end{equation}\n",
        "Pour chaque itération de l'algorithme, on fixe un des facteurs et on calcule l'autre. On définit ainsi une règle de mise à jour des facteurs en répétant ces itérations jusqu'à ce qu'il y ait convergence. "
      ]
    },
    {
      "cell_type": "markdown",
      "metadata": {
        "id": "9k99Ca7gaEmY",
        "colab_type": "text"
      },
      "source": [
        "**Créons notre matrice d'évaluations**"
      ]
    },
    {
      "cell_type": "code",
      "metadata": {
        "id": "QvM9aGAJMCHU",
        "colab_type": "code",
        "colab": {
          "base_uri": "https://localhost:8080/",
          "height": 201
        },
        "outputId": "850be203-fe32-4985-bd05-d3239d7c2aea"
      },
      "source": [
        "X = movielens_ratings[['user_id', 'movie_id']].values\n",
        "y = movielens_ratings['rating'].values\n",
        "\n",
        "\n",
        "print ('X')\n",
        "print (X)\n",
        "print ('y')\n",
        "print (y)\n"
      ],
      "execution_count": 7,
      "outputs": [
        {
          "output_type": "stream",
          "text": [
            "X\n",
            "[[ 196  242]\n",
            " [ 186  302]\n",
            " [  22  377]\n",
            " ...\n",
            " [ 276 1090]\n",
            " [  13  225]\n",
            " [  12  203]]\n",
            "y\n",
            "[3 3 1 ... 1 2 3]\n"
          ],
          "name": "stdout"
        }
      ]
    },
    {
      "cell_type": "code",
      "metadata": {
        "id": "2D2WRfNF9VxX",
        "colab_type": "code",
        "colab": {
          "base_uri": "https://localhost:8080/",
          "height": 164
        },
        "outputId": "07256c88-8590-4401-9f0b-6c02748f8e9b"
      },
      "source": [
        "from scipy import sparse\n",
        "\n",
        "def Convert_to_array(X, y, shape):  \n",
        "    row  = X[:,0]\n",
        "    col  = X[:,1]\n",
        "    data = y\n",
        "    matrix_sparse = sparse.csr_matrix((data,(row,col)), shape=(shape[0]+1,shape[1]+1))  \n",
        "    Ratings = matrix_sparse.todense()   \n",
        "    Ratings = Ratings[1:,1:]                  \n",
        "    Ratings = np.asarray(Ratings)             \n",
        "    return Ratings\n",
        "  \n",
        "\n",
        "R_shape = (n_users, n_items)\n",
        "\n",
        "Ratings = Convert_to_array(X, y, R_shape)\n",
        "print (Ratings)\n",
        "print (Ratings.shape)"
      ],
      "execution_count": 8,
      "outputs": [
        {
          "output_type": "stream",
          "text": [
            "[[5 3 4 ... 0 0 0]\n",
            " [4 0 0 ... 0 0 0]\n",
            " [0 0 0 ... 0 0 0]\n",
            " ...\n",
            " [5 0 0 ... 0 0 0]\n",
            " [0 0 0 ... 0 0 0]\n",
            " [0 5 0 ... 0 0 0]]\n",
            "(943, 1682)\n"
          ],
          "name": "stdout"
        }
      ]
    },
    {
      "cell_type": "markdown",
      "metadata": {
        "id": "tqMomevlcr1c",
        "colab_type": "text"
      },
      "source": [
        "Nous venons de créer notre matrice d'évaluations avec les utilisateurs qui représentent les lignes, les films les colonnes et les entrées qui représentent les notes attribuées à chaque film par les utilisateurs"
      ]
    },
    {
      "cell_type": "markdown",
      "metadata": {
        "id": "2EVZK7Y-UoGL",
        "colab_type": "text"
      },
      "source": [
        "##Définir les ensembles d'entrainement et d'évaluation"
      ]
    },
    {
      "cell_type": "code",
      "metadata": {
        "id": "MNRNzHNLVSrJ",
        "colab_type": "code",
        "colab": {
          "base_uri": "https://localhost:8080/",
          "height": 366
        },
        "outputId": "81b171ec-1202-4456-84c0-235a11b75da0"
      },
      "source": [
        "from sklearn.model_selection import train_test_split\n",
        "\n",
        "X_train, X_test, y_train, y_test = train_test_split(X, y, test_size=0.33)\n",
        "\n",
        "Ratings_train = Convert_to_array(X_train, y_train, R_shape)\n",
        "Ratings_test = Convert_to_array(X_test, y_test, R_shape)\n",
        "\n",
        "print ('Ratings_train')\n",
        "print (Ratings_train)\n",
        "print (Ratings_train.shape)\n",
        "print('')\n",
        "print ('Ratings_test')\n",
        "print (Ratings_test)\n",
        "print (Ratings_test.shape)"
      ],
      "execution_count": 11,
      "outputs": [
        {
          "output_type": "stream",
          "text": [
            "Ratings_train\n",
            "[[0 0 4 ... 0 0 0]\n",
            " [4 0 0 ... 0 0 0]\n",
            " [0 0 0 ... 0 0 0]\n",
            " ...\n",
            " [5 0 0 ... 0 0 0]\n",
            " [0 0 0 ... 0 0 0]\n",
            " [0 5 0 ... 0 0 0]]\n",
            "(943, 1682)\n",
            "\n",
            "Ratings_test\n",
            "[[5 3 0 ... 0 0 0]\n",
            " [0 0 0 ... 0 0 0]\n",
            " [0 0 0 ... 0 0 0]\n",
            " ...\n",
            " [0 0 0 ... 0 0 0]\n",
            " [0 0 0 ... 0 0 0]\n",
            " [0 0 0 ... 0 0 0]]\n",
            "(943, 1682)\n"
          ],
          "name": "stdout"
        }
      ]
    },
    {
      "cell_type": "markdown",
      "metadata": {
        "id": "04FkwZG7di7u",
        "colab_type": "text"
      },
      "source": [
        "#Notre système de recommandation"
      ]
    },
    {
      "cell_type": "code",
      "metadata": {
        "id": "b7ko7a8XfaaI",
        "colab_type": "code",
        "colab": {}
      },
      "source": [
        "from sklearn.metrics import mean_squared_error"
      ],
      "execution_count": 12,
      "outputs": []
    },
    {
      "cell_type": "code",
      "metadata": {
        "id": "gc1KBKXZAarm",
        "colab_type": "code",
        "colab": {}
      },
      "source": [
        "class ALS_Factorization():\n",
        "    def __init__(self, n_iters, n_factors, reg):\n",
        "        self.reg = reg\n",
        "        self.n_iters = n_iters\n",
        "        self.n_factors = n_factors  \n",
        "        #reg est le terme de régularisation, ici lambda\n",
        "        #n_factors est le nombre de facteurs latents choisi\n",
        "        #n_iters est le nombre d'itérations effectué dans la descente de gradient\n",
        "\n",
        "     #entrainer notre modèle\n",
        "\n",
        "    def fit(self, train, test):\n",
        "        self.n_user, self.n_item = train.shape\n",
        "        self.user_factors = np.random.random((self.n_user, self.n_factors))\n",
        "        self.item_factors = np.random.random((self.n_item, self.n_factors))\n",
        "   \n",
        "        self.test_mse_record  = [] # initialiser la liste des erreurs quadratiques de validaton de chauqe itération\n",
        "        self.train_mse_record = []   #initialiser la liste des erreurs quadratiques d'entrainement\n",
        "        for _ in range(self.n_iters):\n",
        "          \n",
        "            self.user_factors = self.moindres_carres(train, self.user_factors, self.item_factors)\n",
        "            self.item_factors = self.moindres_carres(train.T, self.item_factors, self.user_factors) \n",
        "            predictions = self.predict()\n",
        "            test_mse = self.compute_mse(test, predictions)\n",
        "            train_mse = self.compute_mse(train, predictions)\n",
        "            self.test_mse_record.append(test_mse)\n",
        "            self.train_mse_record.append(train_mse)\n",
        "        \n",
        "        return self    \n",
        "    \n",
        "    #Algorithme d'optimisation\n",
        "    def moindres_carres(self, ratings, solve_vecs, fixed_vecs):\n",
        " \n",
        "        A = fixed_vecs.T.dot(fixed_vecs) + np.eye(self.n_factors) * self.reg\n",
        "        b = ratings.dot(fixed_vecs)\n",
        "        A_inv = np.linalg.inv(A)\n",
        "        solve_vecs = b.dot(A_inv)\n",
        "        return solve_vecs\n",
        "    \n",
        "    #prédiction des notes\n",
        "    def predict(self):\n",
        "        \"\"\"prediction de la note de l'utilisateur\"\"\"\n",
        "        pred = self.user_factors.dot(self.item_factors.T)\n",
        "        return pred\n",
        "        \n",
        "\n",
        "    \n",
        "    def compute_mse(y_true, y_pred):\n",
        "        non_nul = np.nonzero(y_true)\n",
        "        mse = mean_squared_error(y_true[non_nul], y_pred[non_nul])\n",
        "        return mse\n",
        "        "
      ],
      "execution_count": 13,
      "outputs": []
    },
    {
      "cell_type": "markdown",
      "metadata": {
        "id": "ENzCkMES6MQY",
        "colab_type": "text"
      },
      "source": [
        "Fonction permettant de visualiser les résultats"
      ]
    },
    {
      "cell_type": "code",
      "metadata": {
        "id": "Ay-ZxFjxCVAU",
        "colab_type": "code",
        "colab": {}
      },
      "source": [
        "def plot_mse(model):\n",
        "    linewidth = 4\n",
        "    plt.plot(model.test_mse_record, color='green',label = ' Test_MSE', linewidth = linewidth)\n",
        "    plt.plot(model.train_mse_record, label = ' Training_MSE', linewidth = linewidth)\n",
        "    plt.xticks(fontsize=10);\n",
        "    plt.yticks(fontsize=10);\n",
        "    plt.xlabel('iterations', fontsize=20)\n",
        "    plt.ylabel('MSE', fontsize=20)\n",
        "    plt.legend(loc = 'best')"
      ],
      "execution_count": 14,
      "outputs": []
    },
    {
      "cell_type": "markdown",
      "metadata": {
        "id": "GtAnRsa4ftIj",
        "colab_type": "text"
      },
      "source": [
        "####Visualiser nos résultats"
      ]
    },
    {
      "cell_type": "code",
      "metadata": {
        "id": "ddzqR5D8CgMC",
        "colab_type": "code",
        "colab": {
          "base_uri": "https://localhost:8080/",
          "height": 288
        },
        "outputId": "ade6ed24-bd62-4e4e-86fb-b729688721ac"
      },
      "source": [
        "als = ALS_Factorization(n_iters = 150, n_factors = 10, reg = 0.1)\n",
        "als.fit(Ratings_train, Ratings_test)\n",
        "plot_mse(als)"
      ],
      "execution_count": null,
      "outputs": [
        {
          "output_type": "display_data",
          "data": {
            "image/png": "[encoded data removed]",
            "text/plain": [
              "<Figure size 432x288 with 1 Axes>"
            ]
          },
          "metadata": {
            "tags": [],
            "needs_background": "light"
          }
        }
      ]
    },
    {
      "cell_type": "code",
      "metadata": {
        "id": "JYuCe26WxHHy",
        "colab_type": "code",
        "colab": {
          "base_uri": "https://localhost:8080/",
          "height": 288
        },
        "outputId": "78ae07a0-6913-4371-e41e-218aa157522a"
      },
      "source": [
        "model4 = ALS_Factorization(n_iters = 150, n_factors = 14, reg = 0.1)\n",
        "model4.fit(Ratings_train, Ratings_test)\n",
        "plot_mse(model4)"
      ],
      "execution_count": null,
      "outputs": [
        {
          "output_type": "display_data",
          "data": {
            "image/png": "[encoded data removed]",
            "text/plain": [
              "<Figure size 432x288 with 1 Axes>"
            ]
          },
          "metadata": {
            "tags": [],
            "needs_background": "light"
          }
        }
      ]
    },
    {
      "cell_type": "code",
      "metadata": {
        "id": "PH09DDEqyBrT",
        "colab_type": "code",
        "colab": {
          "base_uri": "https://localhost:8080/",
          "height": 288
        },
        "outputId": "e7b89361-abe4-4641-a86a-491a95dc3b02"
      },
      "source": [
        "mymodel = ALS_Factorization(n_iters = 200, n_factors = 10, reg = 0.1)\n",
        "mymodel.fit(R_train, R_test)\n",
        "plot_mse(mymodel)"
      ],
      "execution_count": null,
      "outputs": [
        {
          "output_type": "display_data",
          "data": {
            "image/png": "[encoded data removed]",
            "text/plain": [
              "<Figure size 432x288 with 1 Axes>"
            ]
          },
          "metadata": {
            "tags": [],
            "needs_background": "light"
          }
        }
      ]
    },
    {
      "cell_type": "markdown",
      "metadata": {
        "id": "alufs1HZgj1N",
        "colab_type": "text"
      },
      "source": [
        "A jouant sur certains paramètres clés de notre problème afin de déterminer leur influence sur le modèle, on observe que plus le nombre de facteurs latents est important, plus le modèle va être complexe et plus le temps de calcul (dérivation des facteurs latents pour les utlisateurs et les films) augmentera. "
      ]
    },
    {
      "cell_type": "markdown",
      "metadata": {
        "id": "GmOHR7z3g6kN",
        "colab_type": "text"
      },
      "source": [
        "Une petite validation croisée nous permet de trouver les paramètres qui opitmisent notre modèle sont: 10 facteurs latents et $\\lambda=0.01$ avec un score MSE de $\\textbf{8.011}$"
      ]
    },
    {
      "cell_type": "markdown",
      "metadata": {
        "id": "dEo3gjcZhIAq",
        "colab_type": "text"
      },
      "source": [
        "###Recommandons quelques films"
      ]
    },
    {
      "cell_type": "code",
      "metadata": {
        "id": "oUUb-2eyMd2r",
        "colab_type": "code",
        "colab": {
          "base_uri": "https://localhost:8080/",
          "height": 366
        },
        "outputId": "a1b81a86-342f-4d74-a578-8574f9263a98"
      },
      "source": [
        "def make_recommendation(Ratings_matrix, P_matrix, index_user, k):\n",
        "  \"R_matrix: matrice d'évaluation de départ\"\n",
        "  \"P_matrix: Prediction de notre modèle\"\n",
        "  \"k: nombre de films qu'on souhaite recommander\"\n",
        "  notes_de_u = pd.DataFrame(Ratings_matrix).iloc[index_user, :] #liste de toutes les évaluations de l'utilisateur u\n",
        "  notes_pred_u = pd.DataFrame(P_matrix).iloc[index_user, :] #liste des notes prédites par notre modèle pour l'utilisateur u\n",
        "  info_u = pd.concat([notes_de_u, notes_pred_u, item_info], axis=1)\n",
        "  info_u.columns =['Notes', 'Prédiction', 'Titre']\n",
        "\n",
        "  print('Films regardés par l\\'utilisateur 50')\n",
        "  print(info_u.sort_values(by='Notes', ascending=False)[:k])  \n",
        "  print('')\n",
        "  print('Films susceptibles de l\\'interesser')\n",
        "  info_u = info_u[ info_u['Notes'] == 0 ]\n",
        "  print(info_u.sort_values(by='Prédiction', ascending=False)[:k])\n",
        "  print()\n",
        "  print()\n",
        "\n",
        "make_recommendation(ratings, mymodel.all_rating_prediction(), index_user=50, k=6)\n",
        "\n"
      ],
      "execution_count": null,
      "outputs": [
        {
          "output_type": "stream",
          "text": [
            "Films regardés par l'utilisateur 50\n",
            "     Notes  Prédiction                            Titre\n",
            "171  5.000       3.893  Empire Strikes Back, The (1980)\n",
            "180  5.000       3.814        Return of the Jedi (1983)\n",
            "172  5.000       3.714       Princess Bride, The (1987)\n",
            "49   5.000       3.834                 Star Wars (1977)\n",
            "143  5.000       3.884                  Die Hard (1988)\n",
            "82   5.000       3.823    Much Ado About Nothing (1993)\n",
            "\n",
            "Films susceptibles de l'interesser\n",
            "      Notes  Prédiction                                        Titre\n",
            "1270  0.000       4.255                                 North (1994)\n",
            "1057  0.000       4.253                              War, The (1994)\n",
            "1497  0.000       4.252                        Farmer & Chase (1995)\n",
            "850   0.000       4.235  Two or Three Things I Know About Her (1966)\n",
            "1658  0.000       4.220              Getting Away With Murder (1996)\n",
            "1480  0.000       4.215                                S.F.W. (1994)\n",
            "\n",
            "\n"
          ],
          "name": "stdout"
        }
      ]
    },
    {
      "cell_type": "markdown",
      "metadata": {
        "id": "j3gmMi-viOOX",
        "colab_type": "text"
      },
      "source": [
        "#La recommandation avec des images c'est encore mieux"
      ]
    },
    {
      "cell_type": "markdown",
      "metadata": {
        "id": "TEmd-MCniZ5A",
        "colab_type": "text"
      },
      "source": [
        "Dans cette partie nous allons récupérer les posters des films et faire une recommandation avec des images. J'ai utilisé le code de $\\text{ethan rosenthal}$ pour la récupération des posters grâce à l'API de  www.themoviedb.org. Voici le lien de son site https://www.ethanrosenthal.com/#. "
      ]
    },
    {
      "cell_type": "code",
      "metadata": {
        "id": "FY7ksJI_7IPO",
        "colab_type": "code",
        "colab": {
          "base_uri": "https://localhost:8080/",
          "height": 35
        },
        "outputId": "fb037b68-bf71-4fa4-cb4a-3e2c354ae36a"
      },
      "source": [
        "\n",
        "import requests\n",
        "import json\n",
        "response = requests.get('https://www.imdb.com/title/tt0114709/?ref_=fn_al_tt_1')\n",
        "print (response.url.split('/')[-2])"
      ],
      "execution_count": null,
      "outputs": [
        {
          "output_type": "stream",
          "text": [
            "tt0114709\n"
          ],
          "name": "stdout"
        }
      ]
    },
    {
      "cell_type": "markdown",
      "metadata": {
        "id": "P-FtGuNoyJj7",
        "colab_type": "text"
      },
      "source": [
        "Voici la fonction de ethan qui récupère le poster"
      ]
    },
    {
      "cell_type": "code",
      "metadata": {
        "id": "gtgZYjou8dzG",
        "colab_type": "code",
        "colab": {}
      },
      "source": [
        "\n",
        "# Get base url filepath structure. w185 corresponds to size of movie poster.\n",
        "api_key = '2ad5dbf3a94ad60060c0de3b23d9f206'\n",
        "headers = {'Accept': 'application/json'}\n",
        "payload = {'api_key': api_key} \n",
        "response = requests.get(\"http://api.themoviedb.org/3/configuration\",\\\n",
        "                        params=payload,\\\n",
        "                        headers=headers)\n",
        "response = json.loads(response.text)\n",
        "base_url = response['images']['base_url'] + 'w185'\n",
        "\n",
        "def get_poster(imdb_url, base_url, api_key):\n",
        "    # Get IMDB movie ID\n",
        "    response = requests.get(imdb_url)\n",
        "    movie_id = response.url.split('/')[-2]\n",
        "    \n",
        "    # Query themoviedb.org API for movie poster path.\n",
        "    movie_url = 'http://api.themoviedb.org/3/movie/{:}/images'.format(movie_id)\n",
        "    headers = {'Accept': 'application/json'}\n",
        "    payload = {'api_key': api_key} \n",
        "    response = requests.get(movie_url, params=payload, headers=headers)\n",
        "    try:\n",
        "        file_path = json.loads(response.text)['posters'][0]['file_path']\n",
        "    except:\n",
        "        # IMDB movie ID is sometimes no good. Need to get correct one.\n",
        "        movie_title = imdb_url.split('?')[-1].split('(')[0]\n",
        "        payload['query'] = movie_title\n",
        "        response = requests.get('http://api.themoviedb.org/3/search/movie',\\\n",
        "                                params=payload,\\\n",
        "                                headers=headers)\n",
        "        try:\n",
        "            movie_id = json.loads(response.text)['results'][0]['id']\n",
        "            payload.pop('query', None)\n",
        "            movie_url = 'http://api.themoviedb.org/3/movie/{:}/images'\\\n",
        "                        .format(movie_id)\n",
        "            response = requests.get(movie_url, params=payload, headers=headers)\n",
        "            file_path = json.loads(response.text)['posters'][0]['file_path']\n",
        "        except:\n",
        "            # Sometimes the url just doesn't work.\n",
        "            # Return '' so that it does not mess up Image()\n",
        "            return ''\n",
        "        \n",
        "    return base_url + file_path"
      ],
      "execution_count": null,
      "outputs": []
    },
    {
      "cell_type": "markdown",
      "metadata": {
        "id": "CFT8mfe8xxlg",
        "colab_type": "text"
      },
      "source": [
        "\n",
        "##Testons cette fonction sur un film que j'aime bien "
      ]
    },
    {
      "cell_type": "code",
      "metadata": {
        "id": "XZ8docx8xW1x",
        "colab_type": "code",
        "colab": {
          "base_uri": "https://localhost:8080/",
          "height": 317
        },
        "outputId": "1775d5a6-b384-452e-ca92-7d6c2acf710d"
      },
      "source": [
        "from IPython.display import Image\n",
        "from IPython.display import display\n",
        "\n",
        "\n",
        "film_bis = 'https://www.imdb.com/title/tt0112401/'\n",
        "print('Vous avez regardé')\n",
        "Image(url=get_poster(film_bis, base_url, api_key))"
      ],
      "execution_count": null,
      "outputs": [
        {
          "output_type": "stream",
          "text": [
            "Vous avez regardé\n"
          ],
          "name": "stdout"
        },
        {
          "output_type": "execute_result",
          "data": {
            "text/html": [
              "<img src=\"http://image.tmdb.org/t/p/w185/5Ldj3h0ReTsKlKLyLxaD3mW2ZIQ.jpg\"/>"
            ],
            "text/plain": [
              "<IPython.core.display.Image object>"
            ]
          },
          "metadata": {
            "tags": []
          },
          "execution_count": 31
        }
      ]
    },
    {
      "cell_type": "markdown",
      "metadata": {
        "id": "HJgyt-SykYKw",
        "colab_type": "text"
      },
      "source": [
        "Super ! ça fonctionne"
      ]
    },
    {
      "cell_type": "markdown",
      "metadata": {
        "id": "PH41ewBkynoQ",
        "colab_type": "text"
      },
      "source": [
        "##Essayons maintenant de recommander "
      ]
    },
    {
      "cell_type": "markdown",
      "metadata": {
        "id": "tJWzp-C2kv8D",
        "colab_type": "text"
      },
      "source": [
        "Cette fonction calcule la similarité entre les films. Pour plus de d'informations, vous pouvez aller lire les explications suivantres https://www.machinelearningplus.com/nlp/cosine-similarity/"
      ]
    },
    {
      "cell_type": "code",
      "metadata": {
        "id": "ET_8LZXn0OwX",
        "colab_type": "code",
        "colab": {
          "base_uri": "https://localhost:8080/",
          "height": 74
        },
        "outputId": "1f30142b-4ea6-4f6e-ffbd-ae20eac8c42f"
      },
      "source": [
        "def cosine_similarity(model):\n",
        "    sim = model.item_factors.dot(model.item_factors.T)\n",
        "    norms = np.array([np.sqrt(np.diagonal(sim))])\n",
        "    return sim / norms / norms.T\n",
        "\n",
        "als_sim = cosine_similarity(mymodel)\n",
        "\n",
        "m2 = cosine_similarity(model3)\n",
        "m3 = cosine_similarity(dd)\n",
        "als_sim1 = cosine_similarity(als)"
      ],
      "execution_count": null,
      "outputs": [
        {
          "output_type": "stream",
          "text": [
            "/usr/local/lib/python3.6/dist-packages/ipykernel_launcher.py:4: RuntimeWarning: invalid value encountered in true_divide\n",
            "  after removing the cwd from sys.path.\n"
          ],
          "name": "stderr"
        }
      ]
    },
    {
      "cell_type": "markdown",
      "metadata": {
        "id": "2JSOlCFUllTG",
        "colab_type": "text"
      },
      "source": [
        "Recommander les films avec le score de similarité le plus élevé regardés par des utilisateurs qui ont un profil similaire (cf filtrage collaboratif). J'en ai choisi 14"
      ]
    },
    {
      "cell_type": "code",
      "metadata": {
        "id": "tlYpiKv-yEyL",
        "colab_type": "code",
        "colab": {}
      },
      "source": [
        "from IPython.display import HTML\n",
        "\n",
        "def display_top_k_movies(similarity, mapper, movie_idx, base_url, api_key, k=14):\n",
        "    movie_indices = np.argsort(similarity[movie_idx,:])[::-1]\n",
        "    images = ''\n",
        "    k_ctr = 0\n",
        "\n",
        "    i = 1\n",
        "    while k_ctr < 14:\n",
        "        movie = mapper[movie_indices[i]]\n",
        "        poster = get_poster(movie, base_url, api_key)\n",
        "        if poster != '':\n",
        "            images += \"<img style='width: 120px; margin: 0px; \\\n",
        "                      float: left; border: 1px solid black;' src='%s' />\"\\\n",
        "                      % poster\n",
        "            k_ctr += 1\n",
        "        i += 1\n",
        "    display(HTML(images))\n",
        "\n",
        "def compare_recs(als_similarity, mapper,\\\n",
        "                 movie_idx, base_url, api_key, k=14):\n",
        "    # Display input\n",
        "    display(HTML('<font size=4>'+'Vous avez regardé'+'</font>'))\n",
        "    input_poster = get_poster(mapper[movie_idx], base_url, api_key)\n",
        "    input_image = \"<img style='width: 120px; margin: 0px; \\\n",
        "                      float: left; border: 1px solid black;' src='%s' /> <br style='clear: left'></br>\" \\\n",
        "                  % input_poster\n",
        "    display(HTML(input_image))\n",
        "    # Display ALS Recs\n",
        "    display(HTML('<font size=5>'+'Ces films pourraient vous intéresser'+'</font>'))\n",
        "    display_top_k_movies(als_similarity, dioula_d,\\\n",
        "                         movie_idx, base_url, api_key)\n"
      ],
      "execution_count": null,
      "outputs": []
    },
    {
      "cell_type": "markdown",
      "metadata": {
        "id": "kIxcpxH2l2mm",
        "colab_type": "text"
      },
      "source": [
        "Dictionnaire contenant les urls des films de notre base de données. C'est grâce à ces urls que nous pourrons envoyer nos requêtes de récupération de leur poster sur le site www.themoviedb.org"
      ]
    },
    {
      "cell_type": "code",
      "metadata": {
        "id": "2bsc_wby6ek4",
        "colab_type": "code",
        "colab": {}
      },
      "source": [
        "dioula_d = {}\n",
        "with open('birdib.txt', 'r',  encoding = \"ISO-8859-1\") as l:\n",
        "  for line in l.readlines():\n",
        "    splited = line.split(',')\n",
        "    dioula_d[int(splited[0])] = splited[1]\n",
        "    \n"
      ],
      "execution_count": null,
      "outputs": []
    },
    {
      "cell_type": "markdown",
      "metadata": {
        "id": "WODuUXxemdbP",
        "colab_type": "text"
      },
      "source": [
        "Recommandation "
      ]
    },
    {
      "cell_type": "code",
      "metadata": {
        "id": "ddq6TrwjyswT",
        "colab_type": "code",
        "colab": {
          "base_uri": "https://localhost:8080/",
          "height": 633
        },
        "outputId": "aa7c6b07-6f47-45f2-918b-0c0233095352"
      },
      "source": [
        " idx = 1217 # Assassins\n",
        "compare_recs(m2, dioula_d, idx, base_url, api_key)"
      ],
      "execution_count": null,
      "outputs": [
        {
          "output_type": "display_data",
          "data": {
            "text/html": [
              "<font size=4>Vous avez regardé</font>"
            ],
            "text/plain": [
              "<IPython.core.display.HTML object>"
            ]
          },
          "metadata": {
            "tags": []
          }
        },
        {
          "output_type": "display_data",
          "data": {
            "text/html": [
              "<img style='width: 120px; margin: 0px;                       float: left; border: 1px solid black;' src='http://image.tmdb.org/t/p/w185/5Ldj3h0ReTsKlKLyLxaD3mW2ZIQ.jpg' /> <br style='clear: left'></br>"
            ],
            "text/plain": [
              "<IPython.core.display.HTML object>"
            ]
          },
          "metadata": {
            "tags": []
          }
        },
        {
          "output_type": "display_data",
          "data": {
            "text/html": [
              "<font size=5>Ces films pourraient vous intéresser</font>"
            ],
            "text/plain": [
              "<IPython.core.display.HTML object>"
            ]
          },
          "metadata": {
            "tags": []
          }
        },
        {
          "output_type": "display_data",
          "data": {
            "text/html": [
              "<img style='width: 120px; margin: 0px;                       float: left; border: 1px solid black;' src='http://image.tmdb.org/t/p/w185/k2ymPYL9wI5gu5G27AKCvTz1Uxh.jpg' /><img style='width: 120px; margin: 0px;                       float: left; border: 1px solid black;' src='http://image.tmdb.org/t/p/w185/943piJ01kjRKeUcbPjKmZryrqnt.jpg' /><img style='width: 120px; margin: 0px;                       float: left; border: 1px solid black;' src='http://image.tmdb.org/t/p/w185/8ciHL0EruBxGYj6Ta9DV3SCLoah.jpg' /><img style='width: 120px; margin: 0px;                       float: left; border: 1px solid black;' src='http://image.tmdb.org/t/p/w185/yhzCZwkiFYrOrvmMlz14HnV0cM5.jpg' /><img style='width: 120px; margin: 0px;                       float: left; border: 1px solid black;' src='http://image.tmdb.org/t/p/w185/ugwZIaKy38U84KVepuAyo8rQNr0.jpg' /><img style='width: 120px; margin: 0px;                       float: left; border: 1px solid black;' src='http://image.tmdb.org/t/p/w185/9YMjwFbkaHdcfRoG5lFyM7KSn83.jpg' /><img style='width: 120px; margin: 0px;                       float: left; border: 1px solid black;' src='http://image.tmdb.org/t/p/w185/eb2rHqWg6o1Lnqhm72Qt9ZuU22r.jpg' /><img style='width: 120px; margin: 0px;                       float: left; border: 1px solid black;' src='http://image.tmdb.org/t/p/w185/zWOoJagc3FvGJZdXdzhQf56gFsv.jpg' /><img style='width: 120px; margin: 0px;                       float: left; border: 1px solid black;' src='http://image.tmdb.org/t/p/w185/t1OSCM6ji08NDBg0wxcWrsDJMNb.jpg' /><img style='width: 120px; margin: 0px;                       float: left; border: 1px solid black;' src='http://image.tmdb.org/t/p/w185/tIK40vCE9i8g4VhyJ3LLr5y1ROJ.jpg' /><img style='width: 120px; margin: 0px;                       float: left; border: 1px solid black;' src='http://image.tmdb.org/t/p/w185/lUsTxOMn9xYS9Lt6rV5E7ezgAl3.jpg' /><img style='width: 120px; margin: 0px;                       float: left; border: 1px solid black;' src='http://image.tmdb.org/t/p/w185/sE6oLJg2c9Wc9Ra7Yf5j7OArjYk.jpg' /><img style='width: 120px; margin: 0px;                       float: left; border: 1px solid black;' src='http://image.tmdb.org/t/p/w185/4uAAm3pWRgLN6qGZ7iyhVVo9psU.jpg' /><img style='width: 120px; margin: 0px;                       float: left; border: 1px solid black;' src='http://image.tmdb.org/t/p/w185/yxz2WCtYM3xmiztnpVDgG82yJ2h.jpg' />"
            ],
            "text/plain": [
              "<IPython.core.display.HTML object>"
            ]
          },
          "metadata": {
            "tags": []
          }
        }
      ]
    },
    {
      "cell_type": "markdown",
      "metadata": {
        "id": "tKpm_HdXnEWw",
        "colab_type": "text"
      },
      "source": [
        "Dernière chose, regardons à quoi ressemble la matrice d'évaluations complétée"
      ]
    },
    {
      "cell_type": "code",
      "metadata": {
        "id": "hdZVokQ8f65j",
        "colab_type": "code",
        "colab": {
          "base_uri": "https://localhost:8080/",
          "height": 186
        },
        "outputId": "d9d2ad63-f51f-42a0-c761-4555b0826ec9"
      },
      "source": [
        "\n",
        "print('La matrice après complétion par sgd')\n",
        "print('')\n",
        "print(mymodel.all_rating_prediction())"
      ],
      "execution_count": null,
      "outputs": [
        {
          "output_type": "stream",
          "text": [
            "La matrice après complétion par sgd\n",
            "\n",
            "[[3.77322932 3.5820984  3.91754048 ... 3.86593389 3.69055378 4.05930143]\n",
            " [4.16945674 3.82049267 4.72668264 ... 4.46529797 4.00764383 4.55517915]\n",
            " [3.87523008 3.66431697 4.29901611 ... 4.12057463 3.84258329 4.06387426]\n",
            " ...\n",
            " [4.35373604 3.79359312 4.75786437 ... 4.35761141 4.25547944 4.4277906 ]\n",
            " [4.13194088 3.73193911 4.34342988 ... 4.13092198 4.01696448 4.34198741]\n",
            " [3.6269688  3.5233783  3.82333253 ... 3.73160545 3.72993565 3.57223988]]\n"
          ],
          "name": "stdout"
        }
      ]
    }
  ]
}