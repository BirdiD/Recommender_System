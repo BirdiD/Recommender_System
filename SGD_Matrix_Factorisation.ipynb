{
  "nbformat": 4,
  "nbformat_minor": 0,
  "metadata": {
    "colab": {
      "name": "SGD Matrix_Factorisation.ipynb",
      "provenance": [],
      "collapsed_sections": [],
      "toc_visible": true,
      "authorship_tag": "ABX9TyOh+fDcDnNq3IEP9isNPmxk"
    },
    "kernelspec": {
      "name": "python3",
      "display_name": "Python 3"
    },
    "accelerator": "GPU"
  },
  "cells": [
    {
      "cell_type": "markdown",
      "metadata": {
        "id": "GgIxC69NaT3N",
        "colab_type": "text"
      },
      "source": [
        "Importing required paskages"
      ]
    },
    {
      "cell_type": "code",
      "metadata": {
        "id": "XLXrLQ_jaCIc",
        "colab_type": "code",
        "colab": {}
      },
      "source": [
        "from __future__ import print_function\n",
        "\n",
        "import numpy as np\n",
        "import pandas as pd\n",
        "from mpl_toolkits.mplot3d import Axes3D\n",
        "from IPython import display\n",
        "from matplotlib import pyplot as plt\n",
        "import sklearn\n",
        "import sklearn.manifold\n",
        "import tensorflow as tf\n"
      ],
      "execution_count": 1,
      "outputs": []
    },
    {
      "cell_type": "code",
      "metadata": {
        "id": "9qwAwdRWN58v",
        "colab_type": "code",
        "colab": {
          "base_uri": "https://localhost:8080/",
          "height": 531
        },
        "outputId": "8f754df2-d8d7-4333-a6cd-dee2f22cc6be"
      },
      "source": [
        " !curl -O http://files.grouplens.org/datasets/movielens/ml-100k.zip\n",
        " !unzip ml-100k.zip"
      ],
      "execution_count": 2,
      "outputs": [
        {
          "output_type": "stream",
          "text": [
            "  % Total    % Received % Xferd  Average Speed   Time    Time     Time  Current\n",
            "                                 Dload  Upload   Total   Spent    Left  Speed\n",
            "100 4808k  100 4808k    0     0  3747k      0  0:00:01  0:00:01 --:--:-- 3745k\n",
            "Archive:  ml-100k.zip\n",
            "   creating: ml-100k/\n",
            "  inflating: ml-100k/allbut.pl       \n",
            "  inflating: ml-100k/mku.sh          \n",
            "  inflating: ml-100k/README          \n",
            "  inflating: ml-100k/u.data          \n",
            "  inflating: ml-100k/u.genre         \n",
            "  inflating: ml-100k/u.info          \n",
            "  inflating: ml-100k/u.item          \n",
            "  inflating: ml-100k/u.occupation    \n",
            "  inflating: ml-100k/u.user          \n",
            "  inflating: ml-100k/u1.base         \n",
            "  inflating: ml-100k/u1.test         \n",
            "  inflating: ml-100k/u2.base         \n",
            "  inflating: ml-100k/u2.test         \n",
            "  inflating: ml-100k/u3.base         \n",
            "  inflating: ml-100k/u3.test         \n",
            "  inflating: ml-100k/u4.base         \n",
            "  inflating: ml-100k/u4.test         \n",
            "  inflating: ml-100k/u5.base         \n",
            "  inflating: ml-100k/u5.test         \n",
            "  inflating: ml-100k/ua.base         \n",
            "  inflating: ml-100k/ua.test         \n",
            "  inflating: ml-100k/ub.base         \n",
            "  inflating: ml-100k/ub.test         \n"
          ],
          "name": "stdout"
        }
      ]
    },
    {
      "cell_type": "markdown",
      "metadata": {
        "id": "LZCKxw6Ea6_K",
        "colab_type": "text"
      },
      "source": [
        "Download the dataset"
      ]
    },
    {
      "cell_type": "code",
      "metadata": {
        "id": "UHJx2wqEJI3E",
        "colab_type": "code",
        "colab": {
          "base_uri": "https://localhost:8080/",
          "height": 238
        },
        "outputId": "76b5ef1c-a3ad-4f1e-d47f-216cbb47d044"
      },
      "source": [
        "#ratings\n",
        "names = ['user_id', 'movie_id', 'rating', 'timestamp']\n",
        "movielens_ratings = pd.read_csv('ml-100k/u.data', sep='\\t', names=names)\n",
        "movielens_ratings.head(6)\n"
      ],
      "execution_count": 3,
      "outputs": [
        {
          "output_type": "execute_result",
          "data": {
            "text/html": [
              "<div>\n",
              "<style scoped>\n",
              "    .dataframe tbody tr th:only-of-type {\n",
              "        vertical-align: middle;\n",
              "    }\n",
              "\n",
              "    .dataframe tbody tr th {\n",
              "        vertical-align: top;\n",
              "    }\n",
              "\n",
              "    .dataframe thead th {\n",
              "        text-align: right;\n",
              "    }\n",
              "</style>\n",
              "<table border=\"1\" class=\"dataframe\">\n",
              "  <thead>\n",
              "    <tr style=\"text-align: right;\">\n",
              "      <th></th>\n",
              "      <th>user_id</th>\n",
              "      <th>movie_id</th>\n",
              "      <th>rating</th>\n",
              "      <th>timestamp</th>\n",
              "    </tr>\n",
              "  </thead>\n",
              "  <tbody>\n",
              "    <tr>\n",
              "      <th>0</th>\n",
              "      <td>196</td>\n",
              "      <td>242</td>\n",
              "      <td>3</td>\n",
              "      <td>881250949</td>\n",
              "    </tr>\n",
              "    <tr>\n",
              "      <th>1</th>\n",
              "      <td>186</td>\n",
              "      <td>302</td>\n",
              "      <td>3</td>\n",
              "      <td>891717742</td>\n",
              "    </tr>\n",
              "    <tr>\n",
              "      <th>2</th>\n",
              "      <td>22</td>\n",
              "      <td>377</td>\n",
              "      <td>1</td>\n",
              "      <td>878887116</td>\n",
              "    </tr>\n",
              "    <tr>\n",
              "      <th>3</th>\n",
              "      <td>244</td>\n",
              "      <td>51</td>\n",
              "      <td>2</td>\n",
              "      <td>880606923</td>\n",
              "    </tr>\n",
              "    <tr>\n",
              "      <th>4</th>\n",
              "      <td>166</td>\n",
              "      <td>346</td>\n",
              "      <td>1</td>\n",
              "      <td>886397596</td>\n",
              "    </tr>\n",
              "    <tr>\n",
              "      <th>5</th>\n",
              "      <td>298</td>\n",
              "      <td>474</td>\n",
              "      <td>4</td>\n",
              "      <td>884182806</td>\n",
              "    </tr>\n",
              "  </tbody>\n",
              "</table>\n",
              "</div>"
            ],
            "text/plain": [
              "   user_id  movie_id  rating  timestamp\n",
              "0      196       242       3  881250949\n",
              "1      186       302       3  891717742\n",
              "2       22       377       1  878887116\n",
              "3      244        51       2  880606923\n",
              "4      166       346       1  886397596\n",
              "5      298       474       4  884182806"
            ]
          },
          "metadata": {
            "tags": []
          },
          "execution_count": 3
        }
      ]
    },
    {
      "cell_type": "markdown",
      "metadata": {
        "id": "eqbgaAoYbIe-",
        "colab_type": "text"
      },
      "source": [
        "Movies ratings"
      ]
    },
    {
      "cell_type": "code",
      "metadata": {
        "id": "Cu52Q6_zITdc",
        "colab_type": "code",
        "colab": {
          "base_uri": "https://localhost:8080/",
          "height": 238
        },
        "outputId": "72b5e876-4618-4d30-ff81-1207772ba3ba"
      },
      "source": [
        "\n",
        "movielens_ratings.head(6)"
      ],
      "execution_count": 4,
      "outputs": [
        {
          "output_type": "execute_result",
          "data": {
            "text/html": [
              "<div>\n",
              "<style scoped>\n",
              "    .dataframe tbody tr th:only-of-type {\n",
              "        vertical-align: middle;\n",
              "    }\n",
              "\n",
              "    .dataframe tbody tr th {\n",
              "        vertical-align: top;\n",
              "    }\n",
              "\n",
              "    .dataframe thead th {\n",
              "        text-align: right;\n",
              "    }\n",
              "</style>\n",
              "<table border=\"1\" class=\"dataframe\">\n",
              "  <thead>\n",
              "    <tr style=\"text-align: right;\">\n",
              "      <th></th>\n",
              "      <th>user_id</th>\n",
              "      <th>movie_id</th>\n",
              "      <th>rating</th>\n",
              "      <th>timestamp</th>\n",
              "    </tr>\n",
              "  </thead>\n",
              "  <tbody>\n",
              "    <tr>\n",
              "      <th>0</th>\n",
              "      <td>196</td>\n",
              "      <td>242</td>\n",
              "      <td>3</td>\n",
              "      <td>881250949</td>\n",
              "    </tr>\n",
              "    <tr>\n",
              "      <th>1</th>\n",
              "      <td>186</td>\n",
              "      <td>302</td>\n",
              "      <td>3</td>\n",
              "      <td>891717742</td>\n",
              "    </tr>\n",
              "    <tr>\n",
              "      <th>2</th>\n",
              "      <td>22</td>\n",
              "      <td>377</td>\n",
              "      <td>1</td>\n",
              "      <td>878887116</td>\n",
              "    </tr>\n",
              "    <tr>\n",
              "      <th>3</th>\n",
              "      <td>244</td>\n",
              "      <td>51</td>\n",
              "      <td>2</td>\n",
              "      <td>880606923</td>\n",
              "    </tr>\n",
              "    <tr>\n",
              "      <th>4</th>\n",
              "      <td>166</td>\n",
              "      <td>346</td>\n",
              "      <td>1</td>\n",
              "      <td>886397596</td>\n",
              "    </tr>\n",
              "    <tr>\n",
              "      <th>5</th>\n",
              "      <td>298</td>\n",
              "      <td>474</td>\n",
              "      <td>4</td>\n",
              "      <td>884182806</td>\n",
              "    </tr>\n",
              "  </tbody>\n",
              "</table>\n",
              "</div>"
            ],
            "text/plain": [
              "   user_id  movie_id  rating  timestamp\n",
              "0      196       242       3  881250949\n",
              "1      186       302       3  891717742\n",
              "2       22       377       1  878887116\n",
              "3      244        51       2  880606923\n",
              "4      166       346       1  886397596\n",
              "5      298       474       4  884182806"
            ]
          },
          "metadata": {
            "tags": []
          },
          "execution_count": 4
        }
      ]
    },
    {
      "cell_type": "code",
      "metadata": {
        "id": "rX6n4_JEb2MJ",
        "colab_type": "code",
        "colab": {
          "base_uri": "https://localhost:8080/",
          "height": 72
        },
        "outputId": "f8d65058-7c81-4657-b47c-0b0beefafa28"
      },
      "source": [
        "n_users = movielens_ratings.user_id.unique().shape[0]\n",
        "n_items = movielens_ratings.movie_id.unique().shape[0]\n",
        "print('Pour la base de données 100k')\n",
        "print (str(n_users) + ' utilisateurs')\n",
        "print (str(n_items) + ' films')\n"
      ],
      "execution_count": 5,
      "outputs": [
        {
          "output_type": "stream",
          "text": [
            "Pour la base de données 100k\n",
            "943 utilisateurs\n",
            "1682 films\n"
          ],
          "name": "stdout"
        }
      ]
    },
    {
      "cell_type": "markdown",
      "metadata": {
        "id": "Gi-e3HbuLurQ",
        "colab_type": "text"
      },
      "source": [
        "#Rappel Factorisation matricielle"
      ]
    },
    {
      "cell_type": "markdown",
      "metadata": {
        "id": "07JF9PXRcypZ",
        "colab_type": "text"
      },
      "source": [
        "Un système de recommandation peut se décomposer en deux principales tâches: une prédiction des notes qu'un utilisateur est susceptible de donner à un item (film, livres, article etc) et la suggestion des éléments qui pourraient l'intéresser. Dans les approches de type filtrage collaboratif, ces évaluations sont regroupées dans des matrices de type utilisateur/produit où chaque ligne représente un utilisateur et chaque colonne un item (produit). On les appelle matrices d'évaluations. Elles sont non seulement de grandes tailles (des milliers voire des millions d'utilisateurs/produits) mais elles ont aussi la particularité d'être sparse (creuses). En effet, seul un nombre assez faible d'items se retrouvent notées ce qui fait qu'une garande partie des entrées de la matrice sont inconnues. Pour remédier à ce problème et réduire la dimensionalité des matrices d'évaluations, on les décompose en produits de matrices. On parle de factorisation matricielle.\n",
        "\n",
        "Supposons que nous disposons d'une matrice $R$ de $\\mathcal M_{m,n}(R)$ dont les entrées $r_{ui}$ sont les évaluations des films sur Netflix et où chaque ligne représente un utilisateur et chaque colonne un film. L'objectif de la factorisation matricielle est de trouver deux matrices de facteurs latents dont le produit est égale à la matrice $R$. On apprend donc un modéle latent d'utilisateurs $X$ $\\in$  $\\mathcal M_{m,d}(R)$ et d'items $Y$ $\\in$ $\\mathcal M_{d,n}(R)$ afin que le produit $\\hat{r}_{ui}$ = $x_u^T$ $\\cdot$ $y_i$ estime l'entrée $r_{ui}$ de la matrice $R$. Le nombre de variables latentes est égale à $d$. Ces facteurs latents sont en général les attributs des items. Dans le cas des films, il est évident que les utilisateurs préferent certains genres, acteurs ou encore réalisateurs. Ces catégories représentent les facteurs latents. Deux utilisateurs fans d'un même réalisateur ou qui apprécient un genre en particulier aiment vraisemblement des films similaires. Pour un utilisateur, un attribut peut être par exemple un nombre indiquant à quel point il aime les films de comédie et pour un film, un nombre indiquant son caractère humoristique (par exemple 1 s'il s'agit d'une comédie et 0 sinon). Par conséquent, les entrées de $X$ traduiront la force de préférence des utilisateurs pour les attributs choisis (genre du film dans notre exemple). Ces informations nous permettront de prédire les notes manquantes dans la matrice et donc recommander les films non évalués."
      ]
    },
    {
      "cell_type": "markdown",
      "metadata": {
        "id": "uHFe36dHdayq",
        "colab_type": "text"
      },
      "source": [
        "Pour déterminer les variables latentes $X$ et $Y$, on minimise la fonction objective suivante:\n",
        "\\begin{equation}\n",
        "    \\mathcal{L} = \\sum_{(u,i)\\in \\Gamma }(r_{ui}-x^T_u \\cdot y_i)^2\n",
        "\\end{equation}\n",
        "Le terme $\\hat{r}_{ui}$ = $x^T_u \\cdot y_i$ représente la prédiction de l'évaluation de l'item $i$ par l'utilisateur $u$. $\\Gamma$ est l'ensemble des ($u$,$i$) telle que $r_{ui}$ est connue. \\\\\n",
        "Afin d'éviter le surapprentissage, on ajoute à la fonction objective précédente des termes de régularisation. L'égalité précédente se réécrit de la manière suivante:\n",
        "\n",
        "\\begin{equation}\n",
        "     \\mathcal{L} = \\sum_{(u,i)\\in \\Gamma }(r_{ui}-x^T_u \\cdot y_i)^2 + \\lambda (||{x_{u}}||^2 + ||{y_{i}}||^2)\n",
        "\\end{equation}"
      ]
    },
    {
      "cell_type": "markdown",
      "metadata": {
        "id": "93b4Q28kdxTx",
        "colab_type": "text"
      },
      "source": [
        "#Descente de gradient stochastique"
      ]
    },
    {
      "cell_type": "markdown",
      "metadata": {
        "id": "ZRaF17tOestk",
        "colab_type": "text"
      },
      "source": [
        "La minimisation de la fonction objective $(2)$ par la descente de gradient stochastique a été popularisée par Simon Funk. Comme dans l'algorithme précédent, on commence tout d'abord par initialiser les matrices de facteurs latents $X$ et $Y$. On définit un ensemble d'entraînement sur lequel on passe en revue toutes les évaluations de la matrice de départ. A chaque itération, on évalue l'erreur de prédiction $e_{ui}$ définie comme suit:\n",
        "\\begin{equation}\n",
        "    e_{ui} = r_{ui} - \\hat{r}_{ui}\n",
        "\\end{equation}\n",
        "\n",
        "On met jour les variables latentes $x_u$ et $y_i$ dans la direction opposée au gradient avec un pas $\\gamma$.\n",
        "\n",
        "$x_u$ $\\longleftarrow$ $x_{u}$ + $\\gamma$ $(e_{ui}y_{i}- \\lambda x_{u})$\n",
        "\n",
        "$y_i$ $\\longleftarrow$ $y_{i}$ + $\\gamma$ $(e_{ui}x_{u}- \\lambda y_{i})$"
      ]
    },
    {
      "cell_type": "markdown",
      "metadata": {
        "id": "x2YACDqCM5_0",
        "colab_type": "text"
      },
      "source": [
        "**Les biais dans la recommandation**\n",
        "\n",
        "Certains films ont tendance à recevoir plus de bonnes notes que d'autres en raison de leur popularité. On constate aussi que certains utilisateurs sont plus généreux que d'autres dans la notation des films. Prenons l'exemple de deux utilisateurs A et B. Admettons que la moyenne des notes de A soit égale à 1.5 et celle de B à 4.7. Une note de 3 attribuée à un nouveau film par l'utilisateur A n'a pas la même signification qu'un 3 de l'utilisateur B. A a sûrement apprécié le nouveau film contrairement à B. C'est la raison pour laquelle on introduit des biais qu'on associe aux utilisateurs et aux films. La prise en compte de ces biais augmente considérablement la pertinence des items recommandés. Les vainqueurs du challenge netflix de 2007 ont d'ailleurs pris en compte ces biais dans leur algorithme. \n",
        "\n",
        "Le biais $b_{ui}$ associé à la note $r_{ui}$ est défini par:\n",
        "\n",
        "$$\n",
        "b_{ui}=\\mu + b_u + b_i\n",
        "$$\n",
        "\n",
        "\n",
        "*   $\\mu$ est la moyenne des évaluations\n",
        "*   $b_u$ biais associé aux utilisateurs\n",
        "*   $b_i$ biais associé aux films\n",
        "\n",
        "Dès lors, la prédiction de la note de l'item $i$ par l'utilisateur $u$ se réecrit:\n",
        "$$\n",
        "\\hat{r}_{ui}=x_u^Ty_i + b_u + b_i + \\mu \n",
        "$$\n",
        "\n",
        "La fonction objective à minimiser est donc:\n",
        "\\begin{equation}\n",
        "     \\mathcal{L} = \\sum_{(u,i)\\in \\Gamma }(r_{ui}-x^T_u \\cdot y_i-b_u-b_i-\\mu)^2 + \\lambda (||{x_{u}}||^2 + ||{y_{i}}||^2 + b_u^2 + b_i^2)\n",
        "\\end{equation}\n",
        "\n"
      ]
    },
    {
      "cell_type": "markdown",
      "metadata": {
        "id": "Vw0OtNP6h2zo",
        "colab_type": "text"
      },
      "source": [
        "###Création de la matrice et des ensembles d'entrainement et d'évaluation"
      ]
    },
    {
      "cell_type": "code",
      "metadata": {
        "id": "w8v_2topcxJR",
        "colab_type": "code",
        "colab": {
          "base_uri": "https://localhost:8080/",
          "height": 201
        },
        "outputId": "8a74d7ca-a921-4295-dd71-2c598bff8460"
      },
      "source": [
        "\n",
        "X = movielens_ratings[['user_id', 'movie_id']].values\n",
        "y = movielens_ratings['rating'].values\n",
        "\n",
        "#X_1m = mv_1m[['user_id', 'movie_id']].values\n",
        "#y_1m = mv_1m['rating'].values\n",
        "print ('X')\n",
        "print (X)\n",
        "print ('y')\n",
        "print (y)"
      ],
      "execution_count": 6,
      "outputs": [
        {
          "output_type": "stream",
          "text": [
            "X\n",
            "[[ 196  242]\n",
            " [ 186  302]\n",
            " [  22  377]\n",
            " ...\n",
            " [ 276 1090]\n",
            " [  13  225]\n",
            " [  12  203]]\n",
            "y\n",
            "[3 3 1 ... 1 2 3]\n"
          ],
          "name": "stdout"
        }
      ]
    },
    {
      "cell_type": "code",
      "metadata": {
        "id": "7uhUSxYZcATO",
        "colab_type": "code",
        "colab": {
          "base_uri": "https://localhost:8080/",
          "height": 164
        },
        "outputId": "fe175107-1a8f-4ef4-9cd4-8dedf629674d"
      },
      "source": [
        "from scipy import sparse\n",
        "\n",
        "def Convert_to_array(X, y, shape):  \n",
        "    row  = X[:,0]\n",
        "    col  = X[:,1]\n",
        "    data = y\n",
        "    matrix_sparse = sparse.csr_matrix((data,(row,col)), shape=(shape[0]+1,shape[1]+1))  \n",
        "    ratings_matrix = matrix_sparse.todense()   \n",
        "    ratings_matrix = ratings_matrix[1:,1:]                 \n",
        "    ratings_matrix = np.asarray(ratings_matrix)             \n",
        "    return ratings_matrix\n",
        "  \n",
        "\n",
        "ratings_matrix_shape = (n_users, n_items)\n",
        "\n",
        "ratings_matrix = Convert_to_array(X, y, ratings_matrix_shape)\n",
        "print (ratings_matrix)\n",
        "print (ratings_matrix.shape)"
      ],
      "execution_count": 7,
      "outputs": [
        {
          "output_type": "stream",
          "text": [
            "[[5 3 4 ... 0 0 0]\n",
            " [4 0 0 ... 0 0 0]\n",
            " [0 0 0 ... 0 0 0]\n",
            " ...\n",
            " [5 0 0 ... 0 0 0]\n",
            " [0 0 0 ... 0 0 0]\n",
            " [0 5 0 ... 0 0 0]]\n",
            "(943, 1682)\n"
          ],
          "name": "stdout"
        }
      ]
    },
    {
      "cell_type": "code",
      "metadata": {
        "id": "zoHnreZbkDq3",
        "colab_type": "code",
        "colab": {
          "base_uri": "https://localhost:8080/",
          "height": 366
        },
        "outputId": "9e32b71f-87f3-4fd2-a175-2c354540ceb4"
      },
      "source": [
        "from sklearn.model_selection import train_test_split\n",
        "\n",
        "X_train, X_test, y_train, y_test = train_test_split(X, y, test_size=0.33)\n",
        "\n",
        "train_matrix = Convert_to_array(X_train, y_train, ratings_matrix_shape)\n",
        "test_matrix = Convert_to_array(X_test, y_test, ratings_matrix_shape)\n",
        "\n",
        "print ('train_matrix')\n",
        "print (train_matrix)\n",
        "print (train_matrix.shape)\n",
        "print('')\n",
        "print ('test_matrix')\n",
        "print (test_matrix)\n",
        "print (test_matrix.shape)"
      ],
      "execution_count": 8,
      "outputs": [
        {
          "output_type": "stream",
          "text": [
            "train_matrix\n",
            "[[0 3 4 ... 0 0 0]\n",
            " [4 0 0 ... 0 0 0]\n",
            " [0 0 0 ... 0 0 0]\n",
            " ...\n",
            " [5 0 0 ... 0 0 0]\n",
            " [0 0 0 ... 0 0 0]\n",
            " [0 0 0 ... 0 0 0]]\n",
            "(943, 1682)\n",
            "\n",
            "test_matrix\n",
            "[[5 0 0 ... 0 0 0]\n",
            " [0 0 0 ... 0 0 0]\n",
            " [0 0 0 ... 0 0 0]\n",
            " ...\n",
            " [0 0 0 ... 0 0 0]\n",
            " [0 0 0 ... 0 0 0]\n",
            " [0 5 0 ... 0 0 0]]\n",
            "(943, 1682)\n"
          ],
          "name": "stdout"
        }
      ]
    },
    {
      "cell_type": "markdown",
      "metadata": {
        "id": "LFrewi0Jlm7r",
        "colab_type": "text"
      },
      "source": [
        "Fonction retournant le MSE"
      ]
    },
    {
      "cell_type": "code",
      "metadata": {
        "id": "DSUCxHhmkqBI",
        "colab_type": "code",
        "colab": {}
      },
      "source": [
        "#Determining the mean square error\n",
        "from sklearn.metrics import mean_squared_error\n",
        "\n",
        "def mse_calculer(prediction_data, real_data):\n",
        "  prediction_data = prediction_data[real_data.nonzero()].flatten()\n",
        "  real_data = real_data[real_data.nonzero()].flatten()\n",
        "  return mean_squared_error(prediction_data,real_data)"
      ],
      "execution_count": 11,
      "outputs": []
    },
    {
      "cell_type": "markdown",
      "metadata": {
        "id": "LWdnx2FtmHvk",
        "colab_type": "text"
      },
      "source": [
        "#SGD dans la factorisation matricielle"
      ]
    },
    {
      "cell_type": "code",
      "metadata": {
        "id": "dMhinBDXL3vW",
        "colab_type": "code",
        "colab": {}
      },
      "source": [
        "class birdi():\n",
        "    def __init__(self, ratings, n_iters, n_factors, gamma, lmbda):\n",
        "        self.ratings = ratings\n",
        "        self.n_iters = n_iters\n",
        "        self.n_factors = n_factors  \n",
        "        self.gamma = gamma\n",
        "        self.lmbda = lmbda\n",
        "        #self.m, self.n = ratings.nonzero()\n",
        "        #lbmda est le terme de régularisation, ici lambda\n",
        "        #n_factors est le nombre de facteurs latents choisi\n",
        "        #n_iters est le nombre d'itérations effectué\n",
        "\n",
        "\n",
        "        \n",
        "    def fit(self, train, test):\n",
        "        self.n_user, self.n_item = train.shape\n",
        "        \n",
        "        #Initialiser X et Y\n",
        "        self.X_u = np.random.random((self.n_user, self.n_factors))\n",
        "        self.Y_i = np.random.random((self.n_item, self.n_factors))\n",
        "\n",
        "        #Initialiser les biais\n",
        "        self.b = np.mean(self.ratings[np.where(self.ratings != 0)])\n",
        "        self.b_u = np.zeros(n_users)\n",
        "        self.b_i = np.zeros(n_items) \n",
        "\n",
        "        # listes contenant l'erreur quadratique de chaque itération\n",
        "        self.test_mse_result  = []\n",
        "        self.train_mse_result = []  \n",
        "        users, items = train.nonzero()\n",
        "\n",
        "        for w in range(self.n_iters):\n",
        "\n",
        "          #Descente de gradient stochastique\n",
        "              for u, i in zip(users, items):\n",
        "                e_pred = train[u,i] - self.rating_prediction(u,i)  #e_pred = erreur de prédiction\n",
        "\n",
        "                #Mis à joutr des biais\n",
        "\n",
        "                self.b_u[u] += self.gamma * (e_pred - self.lmbda * self.b_u[u])\n",
        "                self.b_i[i] += self.gamma * (e_pred - self.lmbda * self.b_i[i])\n",
        "            \n",
        "                #Mis à jour des facteurs latents\n",
        "\n",
        "                self.X_u[u, :] += self.gamma * (e_pred * self.Y_i[i, :] - self.lmbda * self.X_u[u, :])\n",
        "                self.Y_i[i, :] += self.gamma * (e_pred * self.X_u[u, :] - self.lmbda * self.Y_i[i, :])\n",
        "           \n",
        "              predictions = self.all_rating_prediction()\n",
        "              train_mse = mse_calculer(predictions, train)\n",
        "              test_mse = mse_calculer(predictions, test)\n",
        "              self.test_mse_result.append(test_mse)\n",
        "              self.train_mse_result.append(train_mse)\n",
        "              return self\n",
        "\n",
        "\n",
        "    def rating_prediction(self, u, i):\n",
        "      prediction = self.b + self.b_u[u] + self.b_i[i] + self.X_u[u, :].dot(self.Y_i[i, :].T)\n",
        "      return prediction\n",
        "\n",
        "    def all_rating_prediction(self):\n",
        "      all_rating = np.zeros((self.X_u.shape[0], self.Y_i.shape[0]))\n",
        "      for i in range(self.X_u.shape[0]):\n",
        "        for j in range(self.Y_i.shape[0]):\n",
        "          all_rating[i,j] = self.rating_prediction(i,j)\n",
        "\n",
        "      return all_rating    \n"
      ],
      "execution_count": 12,
      "outputs": []
    },
    {
      "cell_type": "code",
      "metadata": {
        "id": "VwRTnH9NlBkI",
        "colab_type": "code",
        "colab": {
          "base_uri": "https://localhost:8080/",
          "height": 35
        },
        "outputId": "47af3947-5e87-4373-d06c-0b1289c72451"
      },
      "source": [
        "dioula = birdi(ratings_matrix, 200, 5, 0.001, 0.1)\n",
        "dioula.fit(train_matrix, test_matrix)"
      ],
      "execution_count": 13,
      "outputs": [
        {
          "output_type": "execute_result",
          "data": {
            "text/plain": [
              "<__main__.birdi at 0x7f4c550c35f8>"
            ]
          },
          "metadata": {
            "tags": []
          },
          "execution_count": 13
        }
      ]
    },
    {
      "cell_type": "code",
      "metadata": {
        "id": "4LWajw_xvXAz",
        "colab_type": "code",
        "colab": {}
      },
      "source": [
        "%matplotlib inline\n",
        "import matplotlib.pyplot as plt\n",
        "\n",
        "def plot_mse(iteration, birdi):\n",
        "    plt.plot(iteration, birdi.train_mse_result, \\\n",
        "             label='Training_MSE', linewidth=3)\n",
        "    plt.plot(iteration, birdi.test_mse_result, \\\n",
        "             label='Testing_MSE', linewidth=3)\n",
        "\n",
        "\n",
        "    plt.xticks(fontsize=20);\n",
        "    plt.yticks(fontsize=20);\n",
        "    plt.xlabel('Nombre d\\'itérations', fontsize=20);\n",
        "    plt.ylabel('MSE', fontsize=20);\n",
        "    plt.legend(loc='best', fontsize=20);"
      ],
      "execution_count": null,
      "outputs": []
    },
    {
      "cell_type": "code",
      "metadata": {
        "id": "cI5qr_NrxtJT",
        "colab_type": "code",
        "colab": {
          "base_uri": "https://localhost:8080/",
          "height": 304
        },
        "outputId": "224d2324-096d-4e54-ead5-6cab56f5ed44"
      },
      "source": [
        "plot_mse(range(birdi.n_iters), birdi)"
      ],
      "execution_count": null,
      "outputs": [
        {
          "output_type": "display_data",
          "data": {
            "image/png": "[encoded data removed]",
            "text/plain": [
              "<Figure size 432x288 with 1 Axes>"
            ]
          },
          "metadata": {
            "tags": []
          }
        }
      ]
    },
    {
      "cell_type": "code",
      "metadata": {
        "id": "611vwaslx1Z2",
        "colab_type": "code",
        "colab": {
          "base_uri": "https://localhost:8080/",
          "height": 293
        },
        "outputId": "afb0503c-c346-46a7-af78-8ba34bd03687"
      },
      "source": [
        "print('La matrice d\\'évaluation après complétion')\n",
        "print('')\n",
        "birdi.all_rating_prediction()"
      ],
      "execution_count": null,
      "outputs": [
        {
          "output_type": "stream",
          "text": [
            "La matrice d'évaluation après complétion\n",
            "\n"
          ],
          "name": "stdout"
        },
        {
          "output_type": "execute_result",
          "data": {
            "text/plain": [
              "array([[3.19701837, 3.45006603, 3.10955555, ..., 3.28054947, 3.34017579,\n",
              "        3.34599149],\n",
              "       [4.21078539, 3.57749846, 3.17084016, ..., 3.68590512, 3.69492168,\n",
              "        3.65016211],\n",
              "       [3.34471953, 2.91499348, 2.65790332, ..., 3.11992054, 3.11319444,\n",
              "        3.06183409],\n",
              "       ...,\n",
              "       [4.52376836, 3.72628327, 3.32523694, ..., 3.79895614, 3.79215072,\n",
              "        3.77021019],\n",
              "       [4.31012248, 3.78118243, 3.42344439, ..., 3.92126548, 3.92540358,\n",
              "        3.87776333],\n",
              "       [3.67246363, 3.18796169, 2.98273505, ..., 3.28348045, 3.29884059,\n",
              "        3.26865994]])"
            ]
          },
          "metadata": {
            "tags": []
          },
          "execution_count": 18
        }
      ]
    },
    {
      "cell_type": "markdown",
      "metadata": {
        "id": "qCm1ScDHXS3N",
        "colab_type": "text"
      },
      "source": [
        "Comme nous nous y attendions, avec l'algorithme de descente de gradient stochastique, les paramètres de notre modèle s'affinent au fil du temps. Nous avons choisi au hasard au début ces paramètres. L'une des premières observations que nous avons faites est l'influence du nombre de facteurs latents sur notre modèle. Avec des facteurs latents de tailles différentes, on a constaté que l'erreur de prédiction variait considérablement."
      ]
    },
    {
      "cell_type": "markdown",
      "metadata": {
        "id": "A5OsSgNGXKQ1",
        "colab_type": "text"
      },
      "source": [
        "Nous avons trouvé un score RMSE égal à $\\textbf{0.88}$. À titre indicatif, celui de Netflix lors du challenge de 2007 était de l'ordre de $0.95$"
      ]
    },
    {
      "cell_type": "markdown",
      "metadata": {
        "id": "cxYKmOMk9TIj",
        "colab_type": "text"
      },
      "source": [
        "#Completion matricielle par optimisation convexe"
      ]
    },
    {
      "cell_type": "markdown",
      "metadata": {
        "id": "yeSGHCZyiMzR",
        "colab_type": "text"
      },
      "source": [
        "Nous allons utiliser la bibliothèque **fancyimpute** pour la complétion matricielle. La bibliothèque contient des algorithmes de completion matricielle par optimisation convexe. Cette partie est différente de la factorisation matricielle. Voir **Matrix Completion Via Convex Optimization** de **E Candès** ou le pdf Recommender_filtrage_collaboratif dans le dossier Recommender_System"
      ]
    },
    {
      "cell_type": "code",
      "metadata": {
        "id": "0ucWEmrKAfA-",
        "colab_type": "code",
        "colab": {}
      },
      "source": [
        "import random\n",
        "import math\n",
        "import itertools\n",
        "\n",
        "import numpy as np\n",
        "from cvxpy import *"
      ],
      "execution_count": null,
      "outputs": []
    },
    {
      "cell_type": "code",
      "metadata": {
        "id": "BvO0NAtsAtKB",
        "colab_type": "code",
        "colab": {
          "base_uri": "https://localhost:8080/",
          "height": 992
        },
        "outputId": "42903008-1517-4951-ae68-2a42276dc021"
      },
      "source": [
        "pip install fancyimpute"
      ],
      "execution_count": null,
      "outputs": [
        {
          "output_type": "stream",
          "text": [
            "Requirement already satisfied: fancyimpute in /usr/local/lib/python3.6/dist-packages (0.4.3)\n",
            "Requirement already satisfied: tensorflow in /usr/local/lib/python3.6/dist-packages (from fancyimpute) (2.2.0)\n",
            "Requirement already satisfied: keras>=2.0.0 in /usr/local/lib/python3.6/dist-packages (from fancyimpute) (2.3.1)\n",
            "Requirement already satisfied: six in /usr/local/lib/python3.6/dist-packages (from fancyimpute) (1.12.0)\n",
            "Requirement already satisfied: scipy in /usr/local/lib/python3.6/dist-packages (from fancyimpute) (1.4.1)\n",
            "Requirement already satisfied: scikit-learn>=0.19.1 in /usr/local/lib/python3.6/dist-packages (from fancyimpute) (0.22.2.post1)\n",
            "Requirement already satisfied: knnimpute in /usr/local/lib/python3.6/dist-packages (from fancyimpute) (0.1.0)\n",
            "Requirement already satisfied: cvxpy>=1.0.6 in /usr/local/lib/python3.6/dist-packages (from fancyimpute) (1.0.31)\n",
            "Requirement already satisfied: np-utils in /usr/local/lib/python3.6/dist-packages (from fancyimpute) (0.5.12.1)\n",
            "Requirement already satisfied: numpy>=1.10 in /usr/local/lib/python3.6/dist-packages (from fancyimpute) (1.18.4)\n",
            "Requirement already satisfied: tensorflow-estimator<2.3.0,>=2.2.0 in /usr/local/lib/python3.6/dist-packages (from tensorflow->fancyimpute) (2.2.0)\n",
            "Requirement already satisfied: tensorboard<2.3.0,>=2.2.0 in /usr/local/lib/python3.6/dist-packages (from tensorflow->fancyimpute) (2.2.1)\n",
            "Requirement already satisfied: keras-preprocessing>=1.1.0 in /usr/local/lib/python3.6/dist-packages (from tensorflow->fancyimpute) (1.1.2)\n",
            "Requirement already satisfied: opt-einsum>=2.3.2 in /usr/local/lib/python3.6/dist-packages (from tensorflow->fancyimpute) (3.2.1)\n",
            "Requirement already satisfied: gast==0.3.3 in /usr/local/lib/python3.6/dist-packages (from tensorflow->fancyimpute) (0.3.3)\n",
            "Requirement already satisfied: wrapt>=1.11.1 in /usr/local/lib/python3.6/dist-packages (from tensorflow->fancyimpute) (1.12.1)\n",
            "Requirement already satisfied: absl-py>=0.7.0 in /usr/local/lib/python3.6/dist-packages (from tensorflow->fancyimpute) (0.9.0)\n",
            "Requirement already satisfied: google-pasta>=0.1.8 in /usr/local/lib/python3.6/dist-packages (from tensorflow->fancyimpute) (0.2.0)\n",
            "Requirement already satisfied: astunparse==1.6.3 in /usr/local/lib/python3.6/dist-packages (from tensorflow->fancyimpute) (1.6.3)\n",
            "Requirement already satisfied: h5py<2.11.0,>=2.10.0 in /usr/local/lib/python3.6/dist-packages (from tensorflow->fancyimpute) (2.10.0)\n",
            "Requirement already satisfied: wheel>=0.26; python_version >= \"3\" in /usr/local/lib/python3.6/dist-packages (from tensorflow->fancyimpute) (0.34.2)\n",
            "Requirement already satisfied: grpcio>=1.8.6 in /usr/local/lib/python3.6/dist-packages (from tensorflow->fancyimpute) (1.29.0)\n",
            "Requirement already satisfied: termcolor>=1.1.0 in /usr/local/lib/python3.6/dist-packages (from tensorflow->fancyimpute) (1.1.0)\n",
            "Requirement already satisfied: protobuf>=3.8.0 in /usr/local/lib/python3.6/dist-packages (from tensorflow->fancyimpute) (3.10.0)\n",
            "Requirement already satisfied: pyyaml in /usr/local/lib/python3.6/dist-packages (from keras>=2.0.0->fancyimpute) (3.13)\n",
            "Requirement already satisfied: keras-applications>=1.0.6 in /usr/local/lib/python3.6/dist-packages (from keras>=2.0.0->fancyimpute) (1.0.8)\n",
            "Requirement already satisfied: joblib>=0.11 in /usr/local/lib/python3.6/dist-packages (from scikit-learn>=0.19.1->fancyimpute) (0.15.1)\n",
            "Requirement already satisfied: osqp>=0.4.1 in /usr/local/lib/python3.6/dist-packages (from cvxpy>=1.0.6->fancyimpute) (0.6.1)\n",
            "Requirement already satisfied: multiprocess in /usr/local/lib/python3.6/dist-packages (from cvxpy>=1.0.6->fancyimpute) (0.70.9)\n",
            "Requirement already satisfied: scs>=1.1.3 in /usr/local/lib/python3.6/dist-packages (from cvxpy>=1.0.6->fancyimpute) (2.1.2)\n",
            "Requirement already satisfied: ecos>=2 in /usr/local/lib/python3.6/dist-packages (from cvxpy>=1.0.6->fancyimpute) (2.0.7.post1)\n",
            "Requirement already satisfied: future>=0.16 in /usr/local/lib/python3.6/dist-packages (from np-utils->fancyimpute) (0.16.0)\n",
            "Requirement already satisfied: tensorboard-plugin-wit>=1.6.0 in /usr/local/lib/python3.6/dist-packages (from tensorboard<2.3.0,>=2.2.0->tensorflow->fancyimpute) (1.6.0.post3)\n",
            "Requirement already satisfied: google-auth-oauthlib<0.5,>=0.4.1 in /usr/local/lib/python3.6/dist-packages (from tensorboard<2.3.0,>=2.2.0->tensorflow->fancyimpute) (0.4.1)\n",
            "Requirement already satisfied: werkzeug>=0.11.15 in /usr/local/lib/python3.6/dist-packages (from tensorboard<2.3.0,>=2.2.0->tensorflow->fancyimpute) (1.0.1)\n",
            "Requirement already satisfied: setuptools>=41.0.0 in /usr/local/lib/python3.6/dist-packages (from tensorboard<2.3.0,>=2.2.0->tensorflow->fancyimpute) (46.4.0)\n",
            "Requirement already satisfied: google-auth<2,>=1.6.3 in /usr/local/lib/python3.6/dist-packages (from tensorboard<2.3.0,>=2.2.0->tensorflow->fancyimpute) (1.7.2)\n",
            "Requirement already satisfied: requests<3,>=2.21.0 in /usr/local/lib/python3.6/dist-packages (from tensorboard<2.3.0,>=2.2.0->tensorflow->fancyimpute) (2.23.0)\n",
            "Requirement already satisfied: markdown>=2.6.8 in /usr/local/lib/python3.6/dist-packages (from tensorboard<2.3.0,>=2.2.0->tensorflow->fancyimpute) (3.2.2)\n",
            "Requirement already satisfied: dill>=0.3.1 in /usr/local/lib/python3.6/dist-packages (from multiprocess->cvxpy>=1.0.6->fancyimpute) (0.3.1.1)\n",
            "Requirement already satisfied: requests-oauthlib>=0.7.0 in /usr/local/lib/python3.6/dist-packages (from google-auth-oauthlib<0.5,>=0.4.1->tensorboard<2.3.0,>=2.2.0->tensorflow->fancyimpute) (1.3.0)\n",
            "Requirement already satisfied: pyasn1-modules>=0.2.1 in /usr/local/lib/python3.6/dist-packages (from google-auth<2,>=1.6.3->tensorboard<2.3.0,>=2.2.0->tensorflow->fancyimpute) (0.2.8)\n",
            "Requirement already satisfied: rsa<4.1,>=3.1.4 in /usr/local/lib/python3.6/dist-packages (from google-auth<2,>=1.6.3->tensorboard<2.3.0,>=2.2.0->tensorflow->fancyimpute) (4.0)\n",
            "Requirement already satisfied: cachetools<3.2,>=2.0.0 in /usr/local/lib/python3.6/dist-packages (from google-auth<2,>=1.6.3->tensorboard<2.3.0,>=2.2.0->tensorflow->fancyimpute) (3.1.1)\n",
            "Requirement already satisfied: chardet<4,>=3.0.2 in /usr/local/lib/python3.6/dist-packages (from requests<3,>=2.21.0->tensorboard<2.3.0,>=2.2.0->tensorflow->fancyimpute) (3.0.4)\n",
            "Requirement already satisfied: certifi>=2017.4.17 in /usr/local/lib/python3.6/dist-packages (from requests<3,>=2.21.0->tensorboard<2.3.0,>=2.2.0->tensorflow->fancyimpute) (2020.4.5.1)\n",
            "Requirement already satisfied: idna<3,>=2.5 in /usr/local/lib/python3.6/dist-packages (from requests<3,>=2.21.0->tensorboard<2.3.0,>=2.2.0->tensorflow->fancyimpute) (2.9)\n",
            "Requirement already satisfied: urllib3!=1.25.0,!=1.25.1,<1.26,>=1.21.1 in /usr/local/lib/python3.6/dist-packages (from requests<3,>=2.21.0->tensorboard<2.3.0,>=2.2.0->tensorflow->fancyimpute) (1.24.3)\n",
            "Requirement already satisfied: importlib-metadata; python_version < \"3.8\" in /usr/local/lib/python3.6/dist-packages (from markdown>=2.6.8->tensorboard<2.3.0,>=2.2.0->tensorflow->fancyimpute) (1.6.0)\n",
            "Requirement already satisfied: oauthlib>=3.0.0 in /usr/local/lib/python3.6/dist-packages (from requests-oauthlib>=0.7.0->google-auth-oauthlib<0.5,>=0.4.1->tensorboard<2.3.0,>=2.2.0->tensorflow->fancyimpute) (3.1.0)\n",
            "Requirement already satisfied: pyasn1<0.5.0,>=0.4.6 in /usr/local/lib/python3.6/dist-packages (from pyasn1-modules>=0.2.1->google-auth<2,>=1.6.3->tensorboard<2.3.0,>=2.2.0->tensorflow->fancyimpute) (0.4.8)\n",
            "Requirement already satisfied: zipp>=0.5 in /usr/local/lib/python3.6/dist-packages (from importlib-metadata; python_version < \"3.8\"->markdown>=2.6.8->tensorboard<2.3.0,>=2.2.0->tensorflow->fancyimpute) (3.1.0)\n"
          ],
          "name": "stdout"
        }
      ]
    },
    {
      "cell_type": "code",
      "metadata": {
        "id": "Pg1Gb0iRbXYc",
        "colab_type": "code",
        "colab": {
          "base_uri": "https://localhost:8080/",
          "height": 146
        },
        "outputId": "f0cd0313-6403-485d-fe84-93ae8b0f735f"
      },
      "source": [
        "haha = ratings_matrix.astype('float')\n",
        "haha[haha == 0] = 'nan' # or use np.nan\n",
        "haha"
      ],
      "execution_count": null,
      "outputs": [
        {
          "output_type": "execute_result",
          "data": {
            "text/plain": [
              "array([[ 5.,  3.,  4., ..., nan, nan, nan],\n",
              "       [ 4., nan, nan, ..., nan, nan, nan],\n",
              "       [nan, nan, nan, ..., nan, nan, nan],\n",
              "       ...,\n",
              "       [ 5., nan, nan, ..., nan, nan, nan],\n",
              "       [nan, nan, nan, ..., nan, nan, nan],\n",
              "       [nan,  5., nan, ..., nan, nan, nan]])"
            ]
          },
          "metadata": {
            "tags": []
          },
          "execution_count": 10
        }
      ]
    },
    {
      "cell_type": "code",
      "metadata": {
        "id": "r2x2qiw9diaU",
        "colab_type": "code",
        "colab": {
          "base_uri": "https://localhost:8080/",
          "height": 92
        },
        "outputId": "64c6faea-4cac-4e78-de88-8981863c731e"
      },
      "source": [
        "from fancyimpute import KNN, NuclearNormMinimization, SoftImpute, BiScaler"
      ],
      "execution_count": null,
      "outputs": [
        {
          "output_type": "stream",
          "text": [
            "/usr/local/lib/python3.6/dist-packages/sklearn/externals/six.py:31: FutureWarning: The module is deprecated in version 0.21 and will be removed in version 0.23 since we've dropped support for Python 2.7. Please rely on the official version of six (https://pypi.org/project/six/).\n",
            "  \"(https://pypi.org/project/six/).\", FutureWarning)\n",
            "Using TensorFlow backend.\n"
          ],
          "name": "stderr"
        }
      ]
    },
    {
      "cell_type": "code",
      "metadata": {
        "id": "bCxeH2eJeLUf",
        "colab_type": "code",
        "colab": {
          "base_uri": "https://localhost:8080/",
          "height": 1000
        },
        "outputId": "10576319-d6f0-4154-b43e-fe5b994066bf"
      },
      "source": [
        "X_incomplete_normalized = BiScaler().fit_transform(haha)\n",
        "X_filled_softimpute = SoftImpute().fit_transform(X_incomplete_normalized)"
      ],
      "execution_count": null,
      "outputs": [
        {
          "output_type": "stream",
          "text": [
            "[BiScaler] Initial log residual value = 10.300311\n",
            "[BiScaler] Iter 1: log residual = 2.109617, log improvement ratio=8.190694\n",
            "[BiScaler] Iter 2: log residual = 2.730659, log improvement ratio=-0.621043\n",
            "[SoftImpute] Max Singular Value of X_init = 47.368426\n",
            "[SoftImpute] Iter 1: observed MAE=0.055487 rank=848\n",
            "[SoftImpute] Iter 2: observed MAE=0.055061 rank=776\n",
            "[SoftImpute] Iter 3: observed MAE=0.054581 rank=726\n",
            "[SoftImpute] Iter 4: observed MAE=0.054117 rank=685\n",
            "[SoftImpute] Iter 5: observed MAE=0.053695 rank=655\n",
            "[SoftImpute] Iter 6: observed MAE=0.053299 rank=628\n",
            "[SoftImpute] Iter 7: observed MAE=0.052937 rank=604\n",
            "[SoftImpute] Iter 8: observed MAE=0.052605 rank=586\n",
            "[SoftImpute] Iter 9: observed MAE=0.052305 rank=568\n",
            "[SoftImpute] Iter 10: observed MAE=0.052021 rank=553\n",
            "[SoftImpute] Iter 11: observed MAE=0.051746 rank=538\n",
            "[SoftImpute] Iter 12: observed MAE=0.051504 rank=527\n",
            "[SoftImpute] Iter 13: observed MAE=0.051291 rank=515\n",
            "[SoftImpute] Iter 14: observed MAE=0.051087 rank=504\n",
            "[SoftImpute] Iter 15: observed MAE=0.050892 rank=495\n",
            "[SoftImpute] Iter 16: observed MAE=0.050700 rank=485\n",
            "[SoftImpute] Iter 17: observed MAE=0.050526 rank=477\n",
            "[SoftImpute] Iter 18: observed MAE=0.050358 rank=470\n",
            "[SoftImpute] Iter 19: observed MAE=0.050211 rank=462\n",
            "[SoftImpute] Iter 20: observed MAE=0.050055 rank=455\n",
            "[SoftImpute] Iter 21: observed MAE=0.049925 rank=448\n",
            "[SoftImpute] Iter 22: observed MAE=0.049796 rank=444\n",
            "[SoftImpute] Iter 23: observed MAE=0.049696 rank=439\n",
            "[SoftImpute] Iter 24: observed MAE=0.049576 rank=432\n",
            "[SoftImpute] Iter 25: observed MAE=0.049466 rank=427\n",
            "[SoftImpute] Iter 26: observed MAE=0.049354 rank=422\n",
            "[SoftImpute] Iter 27: observed MAE=0.049244 rank=416\n",
            "[SoftImpute] Iter 28: observed MAE=0.049151 rank=413\n",
            "[SoftImpute] Iter 29: observed MAE=0.049063 rank=408\n",
            "[SoftImpute] Iter 30: observed MAE=0.048965 rank=403\n",
            "[SoftImpute] Iter 31: observed MAE=0.048876 rank=400\n",
            "[SoftImpute] Iter 32: observed MAE=0.048801 rank=396\n",
            "[SoftImpute] Iter 33: observed MAE=0.048716 rank=391\n",
            "[SoftImpute] Iter 34: observed MAE=0.048640 rank=388\n",
            "[SoftImpute] Iter 35: observed MAE=0.048567 rank=385\n",
            "[SoftImpute] Iter 36: observed MAE=0.048501 rank=382\n",
            "[SoftImpute] Iter 37: observed MAE=0.048431 rank=377\n",
            "[SoftImpute] Iter 38: observed MAE=0.048365 rank=376\n",
            "[SoftImpute] Iter 39: observed MAE=0.048317 rank=374\n",
            "[SoftImpute] Iter 40: observed MAE=0.048249 rank=370\n",
            "[SoftImpute] Iter 41: observed MAE=0.048198 rank=367\n",
            "[SoftImpute] Iter 42: observed MAE=0.048137 rank=365\n",
            "[SoftImpute] Iter 43: observed MAE=0.048076 rank=361\n",
            "[SoftImpute] Iter 44: observed MAE=0.048024 rank=359\n",
            "[SoftImpute] Iter 45: observed MAE=0.047977 rank=357\n",
            "[SoftImpute] Iter 46: observed MAE=0.047930 rank=355\n",
            "[SoftImpute] Iter 47: observed MAE=0.047881 rank=352\n",
            "[SoftImpute] Iter 48: observed MAE=0.047841 rank=351\n",
            "[SoftImpute] Iter 49: observed MAE=0.047805 rank=349\n",
            "[SoftImpute] Iter 50: observed MAE=0.047768 rank=347\n",
            "[SoftImpute] Iter 51: observed MAE=0.047727 rank=344\n",
            "[SoftImpute] Iter 52: observed MAE=0.047687 rank=343\n",
            "[SoftImpute] Iter 53: observed MAE=0.047658 rank=341\n",
            "[SoftImpute] Iter 54: observed MAE=0.047624 rank=340\n",
            "[SoftImpute] Iter 55: observed MAE=0.047586 rank=338\n",
            "[SoftImpute] Iter 56: observed MAE=0.047553 rank=336\n",
            "[SoftImpute] Iter 57: observed MAE=0.047520 rank=334\n",
            "[SoftImpute] Iter 58: observed MAE=0.047478 rank=332\n",
            "[SoftImpute] Iter 59: observed MAE=0.047450 rank=331\n",
            "[SoftImpute] Iter 60: observed MAE=0.047414 rank=329\n",
            "[SoftImpute] Iter 61: observed MAE=0.047389 rank=328\n",
            "[SoftImpute] Iter 62: observed MAE=0.047358 rank=326\n",
            "[SoftImpute] Iter 63: observed MAE=0.047326 rank=325\n",
            "[SoftImpute] Iter 64: observed MAE=0.047301 rank=324\n",
            "[SoftImpute] Iter 65: observed MAE=0.047278 rank=322\n",
            "[SoftImpute] Iter 66: observed MAE=0.047251 rank=321\n",
            "[SoftImpute] Iter 67: observed MAE=0.047229 rank=319\n",
            "[SoftImpute] Iter 68: observed MAE=0.047201 rank=318\n",
            "[SoftImpute] Iter 69: observed MAE=0.047173 rank=316\n",
            "[SoftImpute] Iter 70: observed MAE=0.047147 rank=315\n",
            "[SoftImpute] Iter 71: observed MAE=0.047127 rank=315\n",
            "[SoftImpute] Iter 72: observed MAE=0.047114 rank=314\n",
            "[SoftImpute] Iter 73: observed MAE=0.047099 rank=313\n",
            "[SoftImpute] Iter 74: observed MAE=0.047074 rank=311\n",
            "[SoftImpute] Iter 75: observed MAE=0.047053 rank=311\n",
            "[SoftImpute] Iter 76: observed MAE=0.047034 rank=309\n",
            "[SoftImpute] Iter 77: observed MAE=0.047015 rank=308\n",
            "[SoftImpute] Iter 78: observed MAE=0.046994 rank=306\n",
            "[SoftImpute] Iter 79: observed MAE=0.046969 rank=306\n",
            "[SoftImpute] Iter 80: observed MAE=0.046949 rank=304\n",
            "[SoftImpute] Iter 81: observed MAE=0.046928 rank=303\n",
            "[SoftImpute] Iter 82: observed MAE=0.046911 rank=303\n",
            "[SoftImpute] Iter 83: observed MAE=0.046894 rank=302\n",
            "[SoftImpute] Iter 84: observed MAE=0.046877 rank=301\n",
            "[SoftImpute] Iter 85: observed MAE=0.046859 rank=300\n",
            "[SoftImpute] Iter 86: observed MAE=0.046842 rank=299\n",
            "[SoftImpute] Iter 87: observed MAE=0.046831 rank=298\n",
            "[SoftImpute] Iter 88: observed MAE=0.046814 rank=297\n",
            "[SoftImpute] Iter 89: observed MAE=0.046797 rank=296\n",
            "[SoftImpute] Iter 90: observed MAE=0.046783 rank=295\n",
            "[SoftImpute] Iter 91: observed MAE=0.046768 rank=295\n",
            "[SoftImpute] Iter 92: observed MAE=0.046756 rank=294\n",
            "[SoftImpute] Iter 93: observed MAE=0.046745 rank=294\n",
            "[SoftImpute] Iter 94: observed MAE=0.046734 rank=292\n",
            "[SoftImpute] Iter 95: observed MAE=0.046717 rank=291\n",
            "[SoftImpute] Iter 96: observed MAE=0.046702 rank=291\n",
            "[SoftImpute] Iter 97: observed MAE=0.046687 rank=289\n",
            "[SoftImpute] Iter 98: observed MAE=0.046671 rank=289\n",
            "[SoftImpute] Iter 99: observed MAE=0.046662 rank=289\n",
            "[SoftImpute] Iter 100: observed MAE=0.046656 rank=289\n",
            "[SoftImpute] Stopped after iteration 100 for lambda=0.947369\n"
          ],
          "name": "stdout"
        }
      ]
    },
    {
      "cell_type": "code",
      "metadata": {
        "id": "9orkOhjNahwe",
        "colab_type": "code",
        "colab": {
          "base_uri": "https://localhost:8080/",
          "height": 146
        },
        "outputId": "8e925ae9-79bd-4756-dd43-92416d01a312"
      },
      "source": [
        "missing_mask = np.random.rand(*haha.shape) < 0.1\n",
        "missing_mask"
      ],
      "execution_count": null,
      "outputs": [
        {
          "output_type": "execute_result",
          "data": {
            "text/plain": [
              "array([[False, False, False, ..., False, False, False],\n",
              "       [False, False, False, ..., False, False, False],\n",
              "       [False, False, False, ..., False, False, False],\n",
              "       ...,\n",
              "       [False, False, False, ..., False, False, False],\n",
              "       [False, False,  True, ..., False, False,  True],\n",
              "       [False, False, False, ...,  True, False, False]])"
            ]
          },
          "metadata": {
            "tags": []
          },
          "execution_count": 24
        }
      ]
    },
    {
      "cell_type": "code",
      "metadata": {
        "id": "0CJVw-sab_fC",
        "colab_type": "code",
        "colab": {
          "base_uri": "https://localhost:8080/",
          "height": 35
        },
        "outputId": "94806200-0bc3-495b-964c-674e7a70ec0d"
      },
      "source": [
        "softImpute_mse = ((X_filled_softimpute[missing_mask] - ratings_matrix[missing_mask]) ** 2).mean()\n",
        "print(\"Matrix Completion MSE: %f\" % softImpute_mse)"
      ],
      "execution_count": null,
      "outputs": [
        {
          "output_type": "stream",
          "text": [
            "Matrix Completion MSE: 0.853624\n"
          ],
          "name": "stdout"
        }
      ]
    }
  ]
}